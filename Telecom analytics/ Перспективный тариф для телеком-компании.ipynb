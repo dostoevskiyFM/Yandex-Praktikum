{
 "cells": [
  {
   "cell_type": "markdown",
   "metadata": {},
   "source": [
    "## Определение перспективного тарифа для телеком компании \"Мегалайн\""
   ]
  },
  {
   "cell_type": "markdown",
   "metadata": {},
   "source": [
    "Заказчик исследования — федеральный оператор сотовой связи «Мегалайн». Клиентам предлагают два тарифных плана: «Смарт» и «Ультра». Чтобы скорректировать рекламный бюджет, коммерческий департамент хочет понять, **какой тариф приносит больше денег**.\n",
    "\n",
    "Мы проведём предварительный анализ тарифов на небольшой выборке клиентов. В нашем распоряжении данные 500 пользователей «Мегалайна»: кто они, откуда, каким тарифом пользуются, сколько звонков и сообщений каждый отправил за 2018 год. Мы проанализируем поведение клиентов и сделать вывод — какой тариф лучше.\n",
    "\n",
    "Исследование будет состоять из нескольких этапов: внешнее знакомство с данными, предобработка данных, исследовательский и статистических анализ датасета. В завершение мы сформулируем гипотезы о различии средних выручек с клиентов разных тарифов и о разнице в выручке с жителей Москвы и остальных регионов."
   ]
  },
  {
   "cell_type": "markdown",
   "metadata": {},
   "source": [
    "## Содержание\n",
    "1. [Знакомство с данными](#1)\n",
    "2. [Подготовка данных для анализа](#2) <br>\n",
    "2.1 [Количество сделанных звонков и израсходованных минут разговора по месяцам](#2.1) <br>\n",
    "2.2 [Количество отправленных сообщений по месяцам](#2.2) <br>\n",
    "2.3 [Объем израсходованного интернет-трафика по месяцам](#2.3) <br>\n",
    "2.4 [Помесячная выручка с каждого пользователя](#2.4) <br>\n",
    "2.5 [Вывод](#2.5)\n",
    "3. [Анализ данных](#3) <br>\n",
    "    3.1. [Сколько минут требуется абонентам](#3.1) <br>\n",
    "    3.2. [Какой объём интернет-трафика нужен абонентам](#3.2) <br>\n",
    "    3.3. [Сколько сообщений отправляют абоненты](#3.3) <br>\n",
    "    3.4. [Зависимость нужд абонентов в зависимости от месяца](#3.4) <br>\n",
    "    3.5 [Среднее количество, дисперсия и стандартное отклонение](#3.5) <br>\n",
    "    3.5. [Вывод](#3.6)\n",
    "4. [Проверка гипотез](#4)\n",
    "5. [Общий вывод](#5)"
   ]
  },
  {
   "cell_type": "markdown",
   "metadata": {},
   "source": [
    "<a id=\"1\"></a>\n",
    "### 1. Знакомство с данными"
   ]
  },
  {
   "cell_type": "code",
   "execution_count": 1,
   "metadata": {},
   "outputs": [],
   "source": [
    "import pandas as pd\n",
    "import matplotlib.pyplot as plt\n",
    "import seaborn as sns\n",
    "import numpy as np\n",
    "from scipy import stats as st\n",
    "\n",
    "\n",
    "calls = pd.read_csv(\"/datasets/calls.csv\")\n",
    "internet = pd.read_csv(\"/datasets/internet.csv\")\n",
    "messages = pd.read_csv(\"/datasets/messages.csv\")\n",
    "tariffs = pd.read_csv(\"/datasets/tariffs.csv\")\n",
    "users = pd.read_csv(\"/datasets/users.csv\")"
   ]
  },
  {
   "cell_type": "markdown",
   "metadata": {},
   "source": [
    "В нашем распоряжении есть 5 датасетов, которые содержат таблицы с информацией о пользователях, информацией о тарифах, о том, как абоненты расходуют пакеты звонков, СМС и интернета.<br>\n",
    "На этапе подготовки данных к анализу нам предстоит очистить эти данные от пропусков, заменить плавающие значения целочисленными там, где это необходимо. <br>\n",
    "Дата во всех сетах отражается как объект, нам нужно будет применить формат даты.<br>\n",
    "В сете с данными об интернет-сеансах в одном столбце продублированы индексы - от этого столбца мы избавимся.<br>\n",
    "В итоге мы объединим несколько датасетов в один."
   ]
  },
  {
   "cell_type": "code",
   "execution_count": 2,
   "metadata": {},
   "outputs": [
    {
     "name": "stdout",
     "output_type": "stream",
     "text": [
      "<class 'pandas.core.frame.DataFrame'>\n",
      "RangeIndex: 2 entries, 0 to 1\n",
      "Data columns (total 8 columns):\n",
      "messages_included        2 non-null int64\n",
      "mb_per_month_included    2 non-null int64\n",
      "minutes_included         2 non-null int64\n",
      "rub_monthly_fee          2 non-null int64\n",
      "rub_per_gb               2 non-null int64\n",
      "rub_per_message          2 non-null int64\n",
      "rub_per_minute           2 non-null int64\n",
      "tariff_name              2 non-null object\n",
      "dtypes: int64(7), object(1)\n",
      "memory usage: 256.0+ bytes\n"
     ]
    },
    {
     "data": {
      "text/html": [
       "<div>\n",
       "<style scoped>\n",
       "    .dataframe tbody tr th:only-of-type {\n",
       "        vertical-align: middle;\n",
       "    }\n",
       "\n",
       "    .dataframe tbody tr th {\n",
       "        vertical-align: top;\n",
       "    }\n",
       "\n",
       "    .dataframe thead th {\n",
       "        text-align: right;\n",
       "    }\n",
       "</style>\n",
       "<table border=\"1\" class=\"dataframe\">\n",
       "  <thead>\n",
       "    <tr style=\"text-align: right;\">\n",
       "      <th></th>\n",
       "      <th>messages_included</th>\n",
       "      <th>mb_per_month_included</th>\n",
       "      <th>minutes_included</th>\n",
       "      <th>rub_monthly_fee</th>\n",
       "      <th>rub_per_gb</th>\n",
       "      <th>rub_per_message</th>\n",
       "      <th>rub_per_minute</th>\n",
       "      <th>tariff_name</th>\n",
       "    </tr>\n",
       "  </thead>\n",
       "  <tbody>\n",
       "    <tr>\n",
       "      <td>0</td>\n",
       "      <td>50</td>\n",
       "      <td>15360</td>\n",
       "      <td>500</td>\n",
       "      <td>550</td>\n",
       "      <td>200</td>\n",
       "      <td>3</td>\n",
       "      <td>3</td>\n",
       "      <td>smart</td>\n",
       "    </tr>\n",
       "    <tr>\n",
       "      <td>1</td>\n",
       "      <td>1000</td>\n",
       "      <td>30720</td>\n",
       "      <td>3000</td>\n",
       "      <td>1950</td>\n",
       "      <td>150</td>\n",
       "      <td>1</td>\n",
       "      <td>1</td>\n",
       "      <td>ultra</td>\n",
       "    </tr>\n",
       "  </tbody>\n",
       "</table>\n",
       "</div>"
      ],
      "text/plain": [
       "   messages_included  mb_per_month_included  minutes_included  \\\n",
       "0                 50                  15360               500   \n",
       "1               1000                  30720              3000   \n",
       "\n",
       "   rub_monthly_fee  rub_per_gb  rub_per_message  rub_per_minute tariff_name  \n",
       "0              550         200                3               3       smart  \n",
       "1             1950         150                1               1       ultra  "
      ]
     },
     "execution_count": 2,
     "metadata": {},
     "output_type": "execute_result"
    }
   ],
   "source": [
    "tariffs.info()\n",
    "tariffs"
   ]
  },
  {
   "cell_type": "code",
   "execution_count": 3,
   "metadata": {},
   "outputs": [
    {
     "name": "stdout",
     "output_type": "stream",
     "text": [
      "<class 'pandas.core.frame.DataFrame'>\n",
      "RangeIndex: 202607 entries, 0 to 202606\n",
      "Data columns (total 4 columns):\n",
      "id           202607 non-null object\n",
      "call_date    202607 non-null object\n",
      "duration     202607 non-null float64\n",
      "user_id      202607 non-null int64\n",
      "dtypes: float64(1), int64(1), object(2)\n",
      "memory usage: 6.2+ MB\n"
     ]
    },
    {
     "data": {
      "text/html": [
       "<div>\n",
       "<style scoped>\n",
       "    .dataframe tbody tr th:only-of-type {\n",
       "        vertical-align: middle;\n",
       "    }\n",
       "\n",
       "    .dataframe tbody tr th {\n",
       "        vertical-align: top;\n",
       "    }\n",
       "\n",
       "    .dataframe thead th {\n",
       "        text-align: right;\n",
       "    }\n",
       "</style>\n",
       "<table border=\"1\" class=\"dataframe\">\n",
       "  <thead>\n",
       "    <tr style=\"text-align: right;\">\n",
       "      <th></th>\n",
       "      <th>id</th>\n",
       "      <th>call_date</th>\n",
       "      <th>duration</th>\n",
       "      <th>user_id</th>\n",
       "    </tr>\n",
       "  </thead>\n",
       "  <tbody>\n",
       "    <tr>\n",
       "      <td>0</td>\n",
       "      <td>1000_0</td>\n",
       "      <td>2018-07-25</td>\n",
       "      <td>0.00</td>\n",
       "      <td>1000</td>\n",
       "    </tr>\n",
       "    <tr>\n",
       "      <td>1</td>\n",
       "      <td>1000_1</td>\n",
       "      <td>2018-08-17</td>\n",
       "      <td>0.00</td>\n",
       "      <td>1000</td>\n",
       "    </tr>\n",
       "    <tr>\n",
       "      <td>2</td>\n",
       "      <td>1000_2</td>\n",
       "      <td>2018-06-11</td>\n",
       "      <td>2.85</td>\n",
       "      <td>1000</td>\n",
       "    </tr>\n",
       "    <tr>\n",
       "      <td>3</td>\n",
       "      <td>1000_3</td>\n",
       "      <td>2018-09-21</td>\n",
       "      <td>13.80</td>\n",
       "      <td>1000</td>\n",
       "    </tr>\n",
       "    <tr>\n",
       "      <td>4</td>\n",
       "      <td>1000_4</td>\n",
       "      <td>2018-12-15</td>\n",
       "      <td>5.18</td>\n",
       "      <td>1000</td>\n",
       "    </tr>\n",
       "    <tr>\n",
       "      <td>...</td>\n",
       "      <td>...</td>\n",
       "      <td>...</td>\n",
       "      <td>...</td>\n",
       "      <td>...</td>\n",
       "    </tr>\n",
       "    <tr>\n",
       "      <td>202602</td>\n",
       "      <td>1499_215</td>\n",
       "      <td>2018-12-26</td>\n",
       "      <td>0.76</td>\n",
       "      <td>1499</td>\n",
       "    </tr>\n",
       "    <tr>\n",
       "      <td>202603</td>\n",
       "      <td>1499_216</td>\n",
       "      <td>2018-10-18</td>\n",
       "      <td>18.83</td>\n",
       "      <td>1499</td>\n",
       "    </tr>\n",
       "    <tr>\n",
       "      <td>202604</td>\n",
       "      <td>1499_217</td>\n",
       "      <td>2018-11-10</td>\n",
       "      <td>10.81</td>\n",
       "      <td>1499</td>\n",
       "    </tr>\n",
       "    <tr>\n",
       "      <td>202605</td>\n",
       "      <td>1499_218</td>\n",
       "      <td>2018-10-06</td>\n",
       "      <td>4.27</td>\n",
       "      <td>1499</td>\n",
       "    </tr>\n",
       "    <tr>\n",
       "      <td>202606</td>\n",
       "      <td>1499_219</td>\n",
       "      <td>2018-12-14</td>\n",
       "      <td>19.62</td>\n",
       "      <td>1499</td>\n",
       "    </tr>\n",
       "  </tbody>\n",
       "</table>\n",
       "<p>202607 rows × 4 columns</p>\n",
       "</div>"
      ],
      "text/plain": [
       "              id   call_date  duration  user_id\n",
       "0         1000_0  2018-07-25      0.00     1000\n",
       "1         1000_1  2018-08-17      0.00     1000\n",
       "2         1000_2  2018-06-11      2.85     1000\n",
       "3         1000_3  2018-09-21     13.80     1000\n",
       "4         1000_4  2018-12-15      5.18     1000\n",
       "...          ...         ...       ...      ...\n",
       "202602  1499_215  2018-12-26      0.76     1499\n",
       "202603  1499_216  2018-10-18     18.83     1499\n",
       "202604  1499_217  2018-11-10     10.81     1499\n",
       "202605  1499_218  2018-10-06      4.27     1499\n",
       "202606  1499_219  2018-12-14     19.62     1499\n",
       "\n",
       "[202607 rows x 4 columns]"
      ]
     },
     "execution_count": 3,
     "metadata": {},
     "output_type": "execute_result"
    }
   ],
   "source": [
    "calls.info()\n",
    "calls"
   ]
  },
  {
   "cell_type": "code",
   "execution_count": 4,
   "metadata": {},
   "outputs": [
    {
     "name": "stdout",
     "output_type": "stream",
     "text": [
      "<class 'pandas.core.frame.DataFrame'>\n",
      "RangeIndex: 149396 entries, 0 to 149395\n",
      "Data columns (total 5 columns):\n",
      "Unnamed: 0      149396 non-null int64\n",
      "id              149396 non-null object\n",
      "mb_used         149396 non-null float64\n",
      "session_date    149396 non-null object\n",
      "user_id         149396 non-null int64\n",
      "dtypes: float64(1), int64(2), object(2)\n",
      "memory usage: 5.7+ MB\n"
     ]
    },
    {
     "data": {
      "text/html": [
       "<div>\n",
       "<style scoped>\n",
       "    .dataframe tbody tr th:only-of-type {\n",
       "        vertical-align: middle;\n",
       "    }\n",
       "\n",
       "    .dataframe tbody tr th {\n",
       "        vertical-align: top;\n",
       "    }\n",
       "\n",
       "    .dataframe thead th {\n",
       "        text-align: right;\n",
       "    }\n",
       "</style>\n",
       "<table border=\"1\" class=\"dataframe\">\n",
       "  <thead>\n",
       "    <tr style=\"text-align: right;\">\n",
       "      <th></th>\n",
       "      <th>Unnamed: 0</th>\n",
       "      <th>id</th>\n",
       "      <th>mb_used</th>\n",
       "      <th>session_date</th>\n",
       "      <th>user_id</th>\n",
       "    </tr>\n",
       "  </thead>\n",
       "  <tbody>\n",
       "    <tr>\n",
       "      <td>0</td>\n",
       "      <td>0</td>\n",
       "      <td>1000_0</td>\n",
       "      <td>112.95</td>\n",
       "      <td>2018-11-25</td>\n",
       "      <td>1000</td>\n",
       "    </tr>\n",
       "    <tr>\n",
       "      <td>1</td>\n",
       "      <td>1</td>\n",
       "      <td>1000_1</td>\n",
       "      <td>1052.81</td>\n",
       "      <td>2018-09-07</td>\n",
       "      <td>1000</td>\n",
       "    </tr>\n",
       "    <tr>\n",
       "      <td>2</td>\n",
       "      <td>2</td>\n",
       "      <td>1000_2</td>\n",
       "      <td>1197.26</td>\n",
       "      <td>2018-06-25</td>\n",
       "      <td>1000</td>\n",
       "    </tr>\n",
       "    <tr>\n",
       "      <td>3</td>\n",
       "      <td>3</td>\n",
       "      <td>1000_3</td>\n",
       "      <td>550.27</td>\n",
       "      <td>2018-08-22</td>\n",
       "      <td>1000</td>\n",
       "    </tr>\n",
       "    <tr>\n",
       "      <td>4</td>\n",
       "      <td>4</td>\n",
       "      <td>1000_4</td>\n",
       "      <td>302.56</td>\n",
       "      <td>2018-09-24</td>\n",
       "      <td>1000</td>\n",
       "    </tr>\n",
       "    <tr>\n",
       "      <td>...</td>\n",
       "      <td>...</td>\n",
       "      <td>...</td>\n",
       "      <td>...</td>\n",
       "      <td>...</td>\n",
       "      <td>...</td>\n",
       "    </tr>\n",
       "    <tr>\n",
       "      <td>149391</td>\n",
       "      <td>149391</td>\n",
       "      <td>1499_152</td>\n",
       "      <td>318.90</td>\n",
       "      <td>2018-10-03</td>\n",
       "      <td>1499</td>\n",
       "    </tr>\n",
       "    <tr>\n",
       "      <td>149392</td>\n",
       "      <td>149392</td>\n",
       "      <td>1499_153</td>\n",
       "      <td>490.13</td>\n",
       "      <td>2018-12-14</td>\n",
       "      <td>1499</td>\n",
       "    </tr>\n",
       "    <tr>\n",
       "      <td>149393</td>\n",
       "      <td>149393</td>\n",
       "      <td>1499_154</td>\n",
       "      <td>0.00</td>\n",
       "      <td>2018-10-27</td>\n",
       "      <td>1499</td>\n",
       "    </tr>\n",
       "    <tr>\n",
       "      <td>149394</td>\n",
       "      <td>149394</td>\n",
       "      <td>1499_155</td>\n",
       "      <td>1246.32</td>\n",
       "      <td>2018-11-26</td>\n",
       "      <td>1499</td>\n",
       "    </tr>\n",
       "    <tr>\n",
       "      <td>149395</td>\n",
       "      <td>149395</td>\n",
       "      <td>1499_156</td>\n",
       "      <td>544.37</td>\n",
       "      <td>2018-10-26</td>\n",
       "      <td>1499</td>\n",
       "    </tr>\n",
       "  </tbody>\n",
       "</table>\n",
       "<p>149396 rows × 5 columns</p>\n",
       "</div>"
      ],
      "text/plain": [
       "        Unnamed: 0        id  mb_used session_date  user_id\n",
       "0                0    1000_0   112.95   2018-11-25     1000\n",
       "1                1    1000_1  1052.81   2018-09-07     1000\n",
       "2                2    1000_2  1197.26   2018-06-25     1000\n",
       "3                3    1000_3   550.27   2018-08-22     1000\n",
       "4                4    1000_4   302.56   2018-09-24     1000\n",
       "...            ...       ...      ...          ...      ...\n",
       "149391      149391  1499_152   318.90   2018-10-03     1499\n",
       "149392      149392  1499_153   490.13   2018-12-14     1499\n",
       "149393      149393  1499_154     0.00   2018-10-27     1499\n",
       "149394      149394  1499_155  1246.32   2018-11-26     1499\n",
       "149395      149395  1499_156   544.37   2018-10-26     1499\n",
       "\n",
       "[149396 rows x 5 columns]"
      ]
     },
     "execution_count": 4,
     "metadata": {},
     "output_type": "execute_result"
    }
   ],
   "source": [
    "internet.info()\n",
    "internet.head(20)\n",
    "internet"
   ]
  },
  {
   "cell_type": "markdown",
   "metadata": {},
   "source": [
    "В датафрейме internet видим лишний столбец \"Unnamed: 0\", который повторяет индексы. Избавимся от него на этапе предобработки"
   ]
  },
  {
   "cell_type": "code",
   "execution_count": 5,
   "metadata": {},
   "outputs": [
    {
     "name": "stdout",
     "output_type": "stream",
     "text": [
      "<class 'pandas.core.frame.DataFrame'>\n",
      "RangeIndex: 123036 entries, 0 to 123035\n",
      "Data columns (total 3 columns):\n",
      "id              123036 non-null object\n",
      "message_date    123036 non-null object\n",
      "user_id         123036 non-null int64\n",
      "dtypes: int64(1), object(2)\n",
      "memory usage: 2.8+ MB\n"
     ]
    },
    {
     "data": {
      "text/html": [
       "<div>\n",
       "<style scoped>\n",
       "    .dataframe tbody tr th:only-of-type {\n",
       "        vertical-align: middle;\n",
       "    }\n",
       "\n",
       "    .dataframe tbody tr th {\n",
       "        vertical-align: top;\n",
       "    }\n",
       "\n",
       "    .dataframe thead th {\n",
       "        text-align: right;\n",
       "    }\n",
       "</style>\n",
       "<table border=\"1\" class=\"dataframe\">\n",
       "  <thead>\n",
       "    <tr style=\"text-align: right;\">\n",
       "      <th></th>\n",
       "      <th>id</th>\n",
       "      <th>message_date</th>\n",
       "      <th>user_id</th>\n",
       "    </tr>\n",
       "  </thead>\n",
       "  <tbody>\n",
       "    <tr>\n",
       "      <td>0</td>\n",
       "      <td>1000_0</td>\n",
       "      <td>2018-06-27</td>\n",
       "      <td>1000</td>\n",
       "    </tr>\n",
       "    <tr>\n",
       "      <td>1</td>\n",
       "      <td>1000_1</td>\n",
       "      <td>2018-10-08</td>\n",
       "      <td>1000</td>\n",
       "    </tr>\n",
       "    <tr>\n",
       "      <td>2</td>\n",
       "      <td>1000_2</td>\n",
       "      <td>2018-08-04</td>\n",
       "      <td>1000</td>\n",
       "    </tr>\n",
       "    <tr>\n",
       "      <td>3</td>\n",
       "      <td>1000_3</td>\n",
       "      <td>2018-06-16</td>\n",
       "      <td>1000</td>\n",
       "    </tr>\n",
       "    <tr>\n",
       "      <td>4</td>\n",
       "      <td>1000_4</td>\n",
       "      <td>2018-12-05</td>\n",
       "      <td>1000</td>\n",
       "    </tr>\n",
       "    <tr>\n",
       "      <td>...</td>\n",
       "      <td>...</td>\n",
       "      <td>...</td>\n",
       "      <td>...</td>\n",
       "    </tr>\n",
       "    <tr>\n",
       "      <td>123031</td>\n",
       "      <td>1499_179</td>\n",
       "      <td>2018-12-12</td>\n",
       "      <td>1499</td>\n",
       "    </tr>\n",
       "    <tr>\n",
       "      <td>123032</td>\n",
       "      <td>1499_180</td>\n",
       "      <td>2018-09-28</td>\n",
       "      <td>1499</td>\n",
       "    </tr>\n",
       "    <tr>\n",
       "      <td>123033</td>\n",
       "      <td>1499_181</td>\n",
       "      <td>2018-09-27</td>\n",
       "      <td>1499</td>\n",
       "    </tr>\n",
       "    <tr>\n",
       "      <td>123034</td>\n",
       "      <td>1499_182</td>\n",
       "      <td>2018-11-15</td>\n",
       "      <td>1499</td>\n",
       "    </tr>\n",
       "    <tr>\n",
       "      <td>123035</td>\n",
       "      <td>1499_183</td>\n",
       "      <td>2018-11-16</td>\n",
       "      <td>1499</td>\n",
       "    </tr>\n",
       "  </tbody>\n",
       "</table>\n",
       "<p>123036 rows × 3 columns</p>\n",
       "</div>"
      ],
      "text/plain": [
       "              id message_date  user_id\n",
       "0         1000_0   2018-06-27     1000\n",
       "1         1000_1   2018-10-08     1000\n",
       "2         1000_2   2018-08-04     1000\n",
       "3         1000_3   2018-06-16     1000\n",
       "4         1000_4   2018-12-05     1000\n",
       "...          ...          ...      ...\n",
       "123031  1499_179   2018-12-12     1499\n",
       "123032  1499_180   2018-09-28     1499\n",
       "123033  1499_181   2018-09-27     1499\n",
       "123034  1499_182   2018-11-15     1499\n",
       "123035  1499_183   2018-11-16     1499\n",
       "\n",
       "[123036 rows x 3 columns]"
      ]
     },
     "execution_count": 5,
     "metadata": {},
     "output_type": "execute_result"
    }
   ],
   "source": [
    "messages.info()\n",
    "messages"
   ]
  },
  {
   "cell_type": "code",
   "execution_count": 6,
   "metadata": {},
   "outputs": [
    {
     "name": "stdout",
     "output_type": "stream",
     "text": [
      "<class 'pandas.core.frame.DataFrame'>\n",
      "RangeIndex: 2 entries, 0 to 1\n",
      "Data columns (total 8 columns):\n",
      "messages_included        2 non-null int64\n",
      "mb_per_month_included    2 non-null int64\n",
      "minutes_included         2 non-null int64\n",
      "rub_monthly_fee          2 non-null int64\n",
      "rub_per_gb               2 non-null int64\n",
      "rub_per_message          2 non-null int64\n",
      "rub_per_minute           2 non-null int64\n",
      "tariff_name              2 non-null object\n",
      "dtypes: int64(7), object(1)\n",
      "memory usage: 256.0+ bytes\n"
     ]
    }
   ],
   "source": [
    "tariffs\n",
    "tariffs.info()"
   ]
  },
  {
   "cell_type": "code",
   "execution_count": 7,
   "metadata": {},
   "outputs": [
    {
     "name": "stdout",
     "output_type": "stream",
     "text": [
      "<class 'pandas.core.frame.DataFrame'>\n",
      "RangeIndex: 500 entries, 0 to 499\n",
      "Data columns (total 8 columns):\n",
      "user_id       500 non-null int64\n",
      "age           500 non-null int64\n",
      "churn_date    38 non-null object\n",
      "city          500 non-null object\n",
      "first_name    500 non-null object\n",
      "last_name     500 non-null object\n",
      "reg_date      500 non-null object\n",
      "tariff        500 non-null object\n",
      "dtypes: int64(2), object(6)\n",
      "memory usage: 31.4+ KB\n"
     ]
    },
    {
     "data": {
      "text/html": [
       "<div>\n",
       "<style scoped>\n",
       "    .dataframe tbody tr th:only-of-type {\n",
       "        vertical-align: middle;\n",
       "    }\n",
       "\n",
       "    .dataframe tbody tr th {\n",
       "        vertical-align: top;\n",
       "    }\n",
       "\n",
       "    .dataframe thead th {\n",
       "        text-align: right;\n",
       "    }\n",
       "</style>\n",
       "<table border=\"1\" class=\"dataframe\">\n",
       "  <thead>\n",
       "    <tr style=\"text-align: right;\">\n",
       "      <th></th>\n",
       "      <th>user_id</th>\n",
       "      <th>age</th>\n",
       "      <th>churn_date</th>\n",
       "      <th>city</th>\n",
       "      <th>first_name</th>\n",
       "      <th>last_name</th>\n",
       "      <th>reg_date</th>\n",
       "      <th>tariff</th>\n",
       "    </tr>\n",
       "  </thead>\n",
       "  <tbody>\n",
       "    <tr>\n",
       "      <td>0</td>\n",
       "      <td>1000</td>\n",
       "      <td>52</td>\n",
       "      <td>NaN</td>\n",
       "      <td>Краснодар</td>\n",
       "      <td>Рафаил</td>\n",
       "      <td>Верещагин</td>\n",
       "      <td>2018-05-25</td>\n",
       "      <td>ultra</td>\n",
       "    </tr>\n",
       "    <tr>\n",
       "      <td>1</td>\n",
       "      <td>1001</td>\n",
       "      <td>41</td>\n",
       "      <td>NaN</td>\n",
       "      <td>Москва</td>\n",
       "      <td>Иван</td>\n",
       "      <td>Ежов</td>\n",
       "      <td>2018-11-01</td>\n",
       "      <td>smart</td>\n",
       "    </tr>\n",
       "    <tr>\n",
       "      <td>2</td>\n",
       "      <td>1002</td>\n",
       "      <td>59</td>\n",
       "      <td>NaN</td>\n",
       "      <td>Стерлитамак</td>\n",
       "      <td>Евгений</td>\n",
       "      <td>Абрамович</td>\n",
       "      <td>2018-06-17</td>\n",
       "      <td>smart</td>\n",
       "    </tr>\n",
       "    <tr>\n",
       "      <td>3</td>\n",
       "      <td>1003</td>\n",
       "      <td>23</td>\n",
       "      <td>NaN</td>\n",
       "      <td>Москва</td>\n",
       "      <td>Белла</td>\n",
       "      <td>Белякова</td>\n",
       "      <td>2018-08-17</td>\n",
       "      <td>ultra</td>\n",
       "    </tr>\n",
       "    <tr>\n",
       "      <td>4</td>\n",
       "      <td>1004</td>\n",
       "      <td>68</td>\n",
       "      <td>NaN</td>\n",
       "      <td>Новокузнецк</td>\n",
       "      <td>Татьяна</td>\n",
       "      <td>Авдеенко</td>\n",
       "      <td>2018-05-14</td>\n",
       "      <td>ultra</td>\n",
       "    </tr>\n",
       "    <tr>\n",
       "      <td>...</td>\n",
       "      <td>...</td>\n",
       "      <td>...</td>\n",
       "      <td>...</td>\n",
       "      <td>...</td>\n",
       "      <td>...</td>\n",
       "      <td>...</td>\n",
       "      <td>...</td>\n",
       "      <td>...</td>\n",
       "    </tr>\n",
       "    <tr>\n",
       "      <td>495</td>\n",
       "      <td>1495</td>\n",
       "      <td>65</td>\n",
       "      <td>NaN</td>\n",
       "      <td>Иркутск</td>\n",
       "      <td>Авксентий</td>\n",
       "      <td>Фокин</td>\n",
       "      <td>2018-08-28</td>\n",
       "      <td>ultra</td>\n",
       "    </tr>\n",
       "    <tr>\n",
       "      <td>496</td>\n",
       "      <td>1496</td>\n",
       "      <td>36</td>\n",
       "      <td>NaN</td>\n",
       "      <td>Вологда</td>\n",
       "      <td>Трифон</td>\n",
       "      <td>Блохин</td>\n",
       "      <td>2018-01-27</td>\n",
       "      <td>smart</td>\n",
       "    </tr>\n",
       "    <tr>\n",
       "      <td>497</td>\n",
       "      <td>1497</td>\n",
       "      <td>32</td>\n",
       "      <td>NaN</td>\n",
       "      <td>Челябинск</td>\n",
       "      <td>Каролина</td>\n",
       "      <td>Агеева</td>\n",
       "      <td>2018-10-09</td>\n",
       "      <td>smart</td>\n",
       "    </tr>\n",
       "    <tr>\n",
       "      <td>498</td>\n",
       "      <td>1498</td>\n",
       "      <td>68</td>\n",
       "      <td>2018-10-25</td>\n",
       "      <td>Владикавказ</td>\n",
       "      <td>Всеволод</td>\n",
       "      <td>Акимчин</td>\n",
       "      <td>2018-07-19</td>\n",
       "      <td>smart</td>\n",
       "    </tr>\n",
       "    <tr>\n",
       "      <td>499</td>\n",
       "      <td>1499</td>\n",
       "      <td>35</td>\n",
       "      <td>NaN</td>\n",
       "      <td>Пермь</td>\n",
       "      <td>Гектор</td>\n",
       "      <td>Корнилов</td>\n",
       "      <td>2018-09-27</td>\n",
       "      <td>smart</td>\n",
       "    </tr>\n",
       "  </tbody>\n",
       "</table>\n",
       "<p>500 rows × 8 columns</p>\n",
       "</div>"
      ],
      "text/plain": [
       "     user_id  age  churn_date         city first_name  last_name    reg_date  \\\n",
       "0       1000   52         NaN    Краснодар     Рафаил  Верещагин  2018-05-25   \n",
       "1       1001   41         NaN       Москва       Иван       Ежов  2018-11-01   \n",
       "2       1002   59         NaN  Стерлитамак    Евгений  Абрамович  2018-06-17   \n",
       "3       1003   23         NaN       Москва      Белла   Белякова  2018-08-17   \n",
       "4       1004   68         NaN  Новокузнецк    Татьяна   Авдеенко  2018-05-14   \n",
       "..       ...  ...         ...          ...        ...        ...         ...   \n",
       "495     1495   65         NaN      Иркутск  Авксентий      Фокин  2018-08-28   \n",
       "496     1496   36         NaN      Вологда     Трифон     Блохин  2018-01-27   \n",
       "497     1497   32         NaN    Челябинск   Каролина     Агеева  2018-10-09   \n",
       "498     1498   68  2018-10-25  Владикавказ   Всеволод    Акимчин  2018-07-19   \n",
       "499     1499   35         NaN        Пермь     Гектор   Корнилов  2018-09-27   \n",
       "\n",
       "    tariff  \n",
       "0    ultra  \n",
       "1    smart  \n",
       "2    smart  \n",
       "3    ultra  \n",
       "4    ultra  \n",
       "..     ...  \n",
       "495  ultra  \n",
       "496  smart  \n",
       "497  smart  \n",
       "498  smart  \n",
       "499  smart  \n",
       "\n",
       "[500 rows x 8 columns]"
      ]
     },
     "execution_count": 7,
     "metadata": {},
     "output_type": "execute_result"
    }
   ],
   "source": [
    "users.info()\n",
    "users"
   ]
  },
  {
   "cell_type": "markdown",
   "metadata": {},
   "source": [
    "<a id=\"2\"></a>\n",
    "### 2. Подготовка данных к анализу"
   ]
  },
  {
   "cell_type": "code",
   "execution_count": 8,
   "metadata": {},
   "outputs": [],
   "source": [
    "dfs = [calls, messages, internet, users]\n",
    " \n",
    "for df in dfs:\n",
    "    date_cols = [col for col in df.columns if 'date' in col]\n",
    "    for col in date_cols:\n",
    "        df[col] = pd.to_datetime(df[col])"
   ]
  },
  {
   "cell_type": "code",
   "execution_count": 9,
   "metadata": {},
   "outputs": [
    {
     "name": "stdout",
     "output_type": "stream",
     "text": [
      "<class 'pandas.core.frame.DataFrame'>\n",
      "RangeIndex: 202607 entries, 0 to 202606\n",
      "Data columns (total 4 columns):\n",
      "id           202607 non-null object\n",
      "call_date    202607 non-null datetime64[ns]\n",
      "duration     202607 non-null float64\n",
      "user_id      202607 non-null int64\n",
      "dtypes: datetime64[ns](1), float64(1), int64(1), object(1)\n",
      "memory usage: 6.2+ MB\n"
     ]
    }
   ],
   "source": [
    "calls.info()"
   ]
  },
  {
   "cell_type": "code",
   "execution_count": 10,
   "metadata": {},
   "outputs": [
    {
     "data": {
      "text/html": [
       "<div>\n",
       "<style scoped>\n",
       "    .dataframe tbody tr th:only-of-type {\n",
       "        vertical-align: middle;\n",
       "    }\n",
       "\n",
       "    .dataframe tbody tr th {\n",
       "        vertical-align: top;\n",
       "    }\n",
       "\n",
       "    .dataframe thead th {\n",
       "        text-align: right;\n",
       "    }\n",
       "</style>\n",
       "<table border=\"1\" class=\"dataframe\">\n",
       "  <thead>\n",
       "    <tr style=\"text-align: right;\">\n",
       "      <th></th>\n",
       "      <th>Unnamed: 0</th>\n",
       "      <th>id</th>\n",
       "      <th>mb_used</th>\n",
       "      <th>session_date</th>\n",
       "      <th>user_id</th>\n",
       "    </tr>\n",
       "  </thead>\n",
       "  <tbody>\n",
       "    <tr>\n",
       "      <td>0</td>\n",
       "      <td>0</td>\n",
       "      <td>1000_0</td>\n",
       "      <td>113</td>\n",
       "      <td>2018-11-25</td>\n",
       "      <td>1000</td>\n",
       "    </tr>\n",
       "    <tr>\n",
       "      <td>1</td>\n",
       "      <td>1</td>\n",
       "      <td>1000_1</td>\n",
       "      <td>1053</td>\n",
       "      <td>2018-09-07</td>\n",
       "      <td>1000</td>\n",
       "    </tr>\n",
       "    <tr>\n",
       "      <td>2</td>\n",
       "      <td>2</td>\n",
       "      <td>1000_2</td>\n",
       "      <td>1198</td>\n",
       "      <td>2018-06-25</td>\n",
       "      <td>1000</td>\n",
       "    </tr>\n",
       "    <tr>\n",
       "      <td>3</td>\n",
       "      <td>3</td>\n",
       "      <td>1000_3</td>\n",
       "      <td>551</td>\n",
       "      <td>2018-08-22</td>\n",
       "      <td>1000</td>\n",
       "    </tr>\n",
       "    <tr>\n",
       "      <td>4</td>\n",
       "      <td>4</td>\n",
       "      <td>1000_4</td>\n",
       "      <td>303</td>\n",
       "      <td>2018-09-24</td>\n",
       "      <td>1000</td>\n",
       "    </tr>\n",
       "    <tr>\n",
       "      <td>...</td>\n",
       "      <td>...</td>\n",
       "      <td>...</td>\n",
       "      <td>...</td>\n",
       "      <td>...</td>\n",
       "      <td>...</td>\n",
       "    </tr>\n",
       "    <tr>\n",
       "      <td>149391</td>\n",
       "      <td>149391</td>\n",
       "      <td>1499_152</td>\n",
       "      <td>319</td>\n",
       "      <td>2018-10-03</td>\n",
       "      <td>1499</td>\n",
       "    </tr>\n",
       "    <tr>\n",
       "      <td>149392</td>\n",
       "      <td>149392</td>\n",
       "      <td>1499_153</td>\n",
       "      <td>491</td>\n",
       "      <td>2018-12-14</td>\n",
       "      <td>1499</td>\n",
       "    </tr>\n",
       "    <tr>\n",
       "      <td>149393</td>\n",
       "      <td>149393</td>\n",
       "      <td>1499_154</td>\n",
       "      <td>0</td>\n",
       "      <td>2018-10-27</td>\n",
       "      <td>1499</td>\n",
       "    </tr>\n",
       "    <tr>\n",
       "      <td>149394</td>\n",
       "      <td>149394</td>\n",
       "      <td>1499_155</td>\n",
       "      <td>1247</td>\n",
       "      <td>2018-11-26</td>\n",
       "      <td>1499</td>\n",
       "    </tr>\n",
       "    <tr>\n",
       "      <td>149395</td>\n",
       "      <td>149395</td>\n",
       "      <td>1499_156</td>\n",
       "      <td>545</td>\n",
       "      <td>2018-10-26</td>\n",
       "      <td>1499</td>\n",
       "    </tr>\n",
       "  </tbody>\n",
       "</table>\n",
       "<p>149396 rows × 5 columns</p>\n",
       "</div>"
      ],
      "text/plain": [
       "        Unnamed: 0        id  mb_used session_date  user_id\n",
       "0                0    1000_0      113   2018-11-25     1000\n",
       "1                1    1000_1     1053   2018-09-07     1000\n",
       "2                2    1000_2     1198   2018-06-25     1000\n",
       "3                3    1000_3      551   2018-08-22     1000\n",
       "4                4    1000_4      303   2018-09-24     1000\n",
       "...            ...       ...      ...          ...      ...\n",
       "149391      149391  1499_152      319   2018-10-03     1499\n",
       "149392      149392  1499_153      491   2018-12-14     1499\n",
       "149393      149393  1499_154        0   2018-10-27     1499\n",
       "149394      149394  1499_155     1247   2018-11-26     1499\n",
       "149395      149395  1499_156      545   2018-10-26     1499\n",
       "\n",
       "[149396 rows x 5 columns]"
      ]
     },
     "execution_count": 10,
     "metadata": {},
     "output_type": "execute_result"
    }
   ],
   "source": [
    "# округлим данные по длительности звонков и количеству использованных мегабайт\n",
    "calls['duration'] = calls['duration'].apply(np.ceil).astype(int)\n",
    "internet['mb_used'] = internet['mb_used'].apply(np.ceil).astype(int)\n",
    "\n",
    "# удалим столбец 'Unnamed: 0' в датафрейме internet\n",
    "internet.drop(['Unnamed: 0'], axis=1)\n",
    "internet"
   ]
  },
  {
   "cell_type": "code",
   "execution_count": 11,
   "metadata": {},
   "outputs": [],
   "source": [
    "#создадим столбец с месяцем там, где это необходимо\n",
    "calls['month'] = calls.set_index('call_date').index.month\n",
    "messages['month'] = messages.set_index('message_date').index.month\n",
    "internet['month'] = internet.set_index('session_date').index.month"
   ]
  },
  {
   "cell_type": "markdown",
   "metadata": {},
   "source": [
    "Для целей нашего исследования нет необходимости учитывать звонки, продолжительность которых составляла 0 минут, поэтому удалим их из таблицы calls"
   ]
  },
  {
   "cell_type": "code",
   "execution_count": 12,
   "metadata": {},
   "outputs": [],
   "source": [
    "calls = calls[calls.duration > 0]\n",
    "\n",
    "internet = internet[internet.mb_used > 0]"
   ]
  },
  {
   "cell_type": "markdown",
   "metadata": {},
   "source": [
    "<a id=\"2.1\"></a>\n",
    "### Количество сделанных звонков и израсходованных минут разговора по месяцам"
   ]
  },
  {
   "cell_type": "code",
   "execution_count": 13,
   "metadata": {},
   "outputs": [
    {
     "data": {
      "text/html": [
       "<div>\n",
       "<style scoped>\n",
       "    .dataframe tbody tr th:only-of-type {\n",
       "        vertical-align: middle;\n",
       "    }\n",
       "\n",
       "    .dataframe tbody tr th {\n",
       "        vertical-align: top;\n",
       "    }\n",
       "\n",
       "    .dataframe thead th {\n",
       "        text-align: right;\n",
       "    }\n",
       "</style>\n",
       "<table border=\"1\" class=\"dataframe\">\n",
       "  <thead>\n",
       "    <tr style=\"text-align: right;\">\n",
       "      <th></th>\n",
       "      <th>user_id</th>\n",
       "      <th>month</th>\n",
       "      <th>mins_total</th>\n",
       "      <th>calls_total</th>\n",
       "    </tr>\n",
       "  </thead>\n",
       "  <tbody>\n",
       "    <tr>\n",
       "      <td>0</td>\n",
       "      <td>1000</td>\n",
       "      <td>5</td>\n",
       "      <td>159</td>\n",
       "      <td>17</td>\n",
       "    </tr>\n",
       "    <tr>\n",
       "      <td>1</td>\n",
       "      <td>1000</td>\n",
       "      <td>6</td>\n",
       "      <td>172</td>\n",
       "      <td>28</td>\n",
       "    </tr>\n",
       "    <tr>\n",
       "      <td>2</td>\n",
       "      <td>1000</td>\n",
       "      <td>7</td>\n",
       "      <td>340</td>\n",
       "      <td>41</td>\n",
       "    </tr>\n",
       "    <tr>\n",
       "      <td>3</td>\n",
       "      <td>1000</td>\n",
       "      <td>8</td>\n",
       "      <td>408</td>\n",
       "      <td>42</td>\n",
       "    </tr>\n",
       "    <tr>\n",
       "      <td>4</td>\n",
       "      <td>1000</td>\n",
       "      <td>9</td>\n",
       "      <td>466</td>\n",
       "      <td>46</td>\n",
       "    </tr>\n",
       "    <tr>\n",
       "      <td>...</td>\n",
       "      <td>...</td>\n",
       "      <td>...</td>\n",
       "      <td>...</td>\n",
       "      <td>...</td>\n",
       "    </tr>\n",
       "    <tr>\n",
       "      <td>3163</td>\n",
       "      <td>1498</td>\n",
       "      <td>10</td>\n",
       "      <td>247</td>\n",
       "      <td>30</td>\n",
       "    </tr>\n",
       "    <tr>\n",
       "      <td>3164</td>\n",
       "      <td>1499</td>\n",
       "      <td>9</td>\n",
       "      <td>70</td>\n",
       "      <td>8</td>\n",
       "    </tr>\n",
       "    <tr>\n",
       "      <td>3165</td>\n",
       "      <td>1499</td>\n",
       "      <td>10</td>\n",
       "      <td>449</td>\n",
       "      <td>44</td>\n",
       "    </tr>\n",
       "    <tr>\n",
       "      <td>3166</td>\n",
       "      <td>1499</td>\n",
       "      <td>11</td>\n",
       "      <td>612</td>\n",
       "      <td>62</td>\n",
       "    </tr>\n",
       "    <tr>\n",
       "      <td>3167</td>\n",
       "      <td>1499</td>\n",
       "      <td>12</td>\n",
       "      <td>492</td>\n",
       "      <td>56</td>\n",
       "    </tr>\n",
       "  </tbody>\n",
       "</table>\n",
       "<p>3168 rows × 4 columns</p>\n",
       "</div>"
      ],
      "text/plain": [
       "      user_id  month  mins_total  calls_total\n",
       "0        1000      5         159           17\n",
       "1        1000      6         172           28\n",
       "2        1000      7         340           41\n",
       "3        1000      8         408           42\n",
       "4        1000      9         466           46\n",
       "...       ...    ...         ...          ...\n",
       "3163     1498     10         247           30\n",
       "3164     1499      9          70            8\n",
       "3165     1499     10         449           44\n",
       "3166     1499     11         612           62\n",
       "3167     1499     12         492           56\n",
       "\n",
       "[3168 rows x 4 columns]"
      ]
     },
     "execution_count": 13,
     "metadata": {},
     "output_type": "execute_result"
    }
   ],
   "source": [
    "calls_total = calls.groupby(['user_id', 'month'])[['duration']].agg(['sum', 'count']).reset_index()\n",
    "calls_total.columns = ['user_id', 'month', 'mins_total', 'calls_total']\n",
    "calls_total"
   ]
  },
  {
   "cell_type": "markdown",
   "metadata": {},
   "source": [
    "<a id=\"2.2\"></a>\n",
    "### Количество отправленных сообщений по месяцам"
   ]
  },
  {
   "cell_type": "code",
   "execution_count": 14,
   "metadata": {},
   "outputs": [
    {
     "data": {
      "text/html": [
       "<div>\n",
       "<style scoped>\n",
       "    .dataframe tbody tr th:only-of-type {\n",
       "        vertical-align: middle;\n",
       "    }\n",
       "\n",
       "    .dataframe tbody tr th {\n",
       "        vertical-align: top;\n",
       "    }\n",
       "\n",
       "    .dataframe thead th {\n",
       "        text-align: right;\n",
       "    }\n",
       "</style>\n",
       "<table border=\"1\" class=\"dataframe\">\n",
       "  <thead>\n",
       "    <tr style=\"text-align: right;\">\n",
       "      <th></th>\n",
       "      <th>user_id</th>\n",
       "      <th>month</th>\n",
       "      <th>messages_total</th>\n",
       "    </tr>\n",
       "  </thead>\n",
       "  <tbody>\n",
       "    <tr>\n",
       "      <td>0</td>\n",
       "      <td>1000</td>\n",
       "      <td>5</td>\n",
       "      <td>22</td>\n",
       "    </tr>\n",
       "    <tr>\n",
       "      <td>1</td>\n",
       "      <td>1000</td>\n",
       "      <td>6</td>\n",
       "      <td>60</td>\n",
       "    </tr>\n",
       "    <tr>\n",
       "      <td>2</td>\n",
       "      <td>1000</td>\n",
       "      <td>7</td>\n",
       "      <td>75</td>\n",
       "    </tr>\n",
       "    <tr>\n",
       "      <td>3</td>\n",
       "      <td>1000</td>\n",
       "      <td>8</td>\n",
       "      <td>81</td>\n",
       "    </tr>\n",
       "    <tr>\n",
       "      <td>4</td>\n",
       "      <td>1000</td>\n",
       "      <td>9</td>\n",
       "      <td>57</td>\n",
       "    </tr>\n",
       "    <tr>\n",
       "      <td>...</td>\n",
       "      <td>...</td>\n",
       "      <td>...</td>\n",
       "      <td>...</td>\n",
       "    </tr>\n",
       "    <tr>\n",
       "      <td>2712</td>\n",
       "      <td>1498</td>\n",
       "      <td>10</td>\n",
       "      <td>42</td>\n",
       "    </tr>\n",
       "    <tr>\n",
       "      <td>2713</td>\n",
       "      <td>1499</td>\n",
       "      <td>9</td>\n",
       "      <td>11</td>\n",
       "    </tr>\n",
       "    <tr>\n",
       "      <td>2714</td>\n",
       "      <td>1499</td>\n",
       "      <td>10</td>\n",
       "      <td>48</td>\n",
       "    </tr>\n",
       "    <tr>\n",
       "      <td>2715</td>\n",
       "      <td>1499</td>\n",
       "      <td>11</td>\n",
       "      <td>59</td>\n",
       "    </tr>\n",
       "    <tr>\n",
       "      <td>2716</td>\n",
       "      <td>1499</td>\n",
       "      <td>12</td>\n",
       "      <td>66</td>\n",
       "    </tr>\n",
       "  </tbody>\n",
       "</table>\n",
       "<p>2717 rows × 3 columns</p>\n",
       "</div>"
      ],
      "text/plain": [
       "      user_id  month  messages_total\n",
       "0        1000      5              22\n",
       "1        1000      6              60\n",
       "2        1000      7              75\n",
       "3        1000      8              81\n",
       "4        1000      9              57\n",
       "...       ...    ...             ...\n",
       "2712     1498     10              42\n",
       "2713     1499      9              11\n",
       "2714     1499     10              48\n",
       "2715     1499     11              59\n",
       "2716     1499     12              66\n",
       "\n",
       "[2717 rows x 3 columns]"
      ]
     },
     "execution_count": 14,
     "metadata": {},
     "output_type": "execute_result"
    }
   ],
   "source": [
    "messages_total = messages.groupby(['user_id', 'month'])[['id']].agg(['count']).reset_index()\n",
    "messages_total.columns = ['user_id', 'month', 'messages_total']\n",
    "messages_total"
   ]
  },
  {
   "cell_type": "markdown",
   "metadata": {},
   "source": [
    "<a id=\"2.3\"></a>\n",
    "### Объем израсходованного интернет-трафика по месяцам"
   ]
  },
  {
   "cell_type": "code",
   "execution_count": 15,
   "metadata": {},
   "outputs": [
    {
     "data": {
      "text/html": [
       "<div>\n",
       "<style scoped>\n",
       "    .dataframe tbody tr th:only-of-type {\n",
       "        vertical-align: middle;\n",
       "    }\n",
       "\n",
       "    .dataframe tbody tr th {\n",
       "        vertical-align: top;\n",
       "    }\n",
       "\n",
       "    .dataframe thead th {\n",
       "        text-align: right;\n",
       "    }\n",
       "</style>\n",
       "<table border=\"1\" class=\"dataframe\">\n",
       "  <thead>\n",
       "    <tr style=\"text-align: right;\">\n",
       "      <th></th>\n",
       "      <th>user_id</th>\n",
       "      <th>month</th>\n",
       "      <th>internet_total</th>\n",
       "    </tr>\n",
       "  </thead>\n",
       "  <tbody>\n",
       "    <tr>\n",
       "      <td>0</td>\n",
       "      <td>1000</td>\n",
       "      <td>5</td>\n",
       "      <td>2256</td>\n",
       "    </tr>\n",
       "    <tr>\n",
       "      <td>1</td>\n",
       "      <td>1000</td>\n",
       "      <td>6</td>\n",
       "      <td>23257</td>\n",
       "    </tr>\n",
       "    <tr>\n",
       "      <td>2</td>\n",
       "      <td>1000</td>\n",
       "      <td>7</td>\n",
       "      <td>14016</td>\n",
       "    </tr>\n",
       "    <tr>\n",
       "      <td>3</td>\n",
       "      <td>1000</td>\n",
       "      <td>8</td>\n",
       "      <td>14070</td>\n",
       "    </tr>\n",
       "    <tr>\n",
       "      <td>4</td>\n",
       "      <td>1000</td>\n",
       "      <td>9</td>\n",
       "      <td>14581</td>\n",
       "    </tr>\n",
       "    <tr>\n",
       "      <td>...</td>\n",
       "      <td>...</td>\n",
       "      <td>...</td>\n",
       "      <td>...</td>\n",
       "    </tr>\n",
       "    <tr>\n",
       "      <td>3196</td>\n",
       "      <td>1498</td>\n",
       "      <td>10</td>\n",
       "      <td>20604</td>\n",
       "    </tr>\n",
       "    <tr>\n",
       "      <td>3197</td>\n",
       "      <td>1499</td>\n",
       "      <td>9</td>\n",
       "      <td>1848</td>\n",
       "    </tr>\n",
       "    <tr>\n",
       "      <td>3198</td>\n",
       "      <td>1499</td>\n",
       "      <td>10</td>\n",
       "      <td>17809</td>\n",
       "    </tr>\n",
       "    <tr>\n",
       "      <td>3199</td>\n",
       "      <td>1499</td>\n",
       "      <td>11</td>\n",
       "      <td>17984</td>\n",
       "    </tr>\n",
       "    <tr>\n",
       "      <td>3200</td>\n",
       "      <td>1499</td>\n",
       "      <td>12</td>\n",
       "      <td>13077</td>\n",
       "    </tr>\n",
       "  </tbody>\n",
       "</table>\n",
       "<p>3201 rows × 3 columns</p>\n",
       "</div>"
      ],
      "text/plain": [
       "      user_id  month  internet_total\n",
       "0        1000      5            2256\n",
       "1        1000      6           23257\n",
       "2        1000      7           14016\n",
       "3        1000      8           14070\n",
       "4        1000      9           14581\n",
       "...       ...    ...             ...\n",
       "3196     1498     10           20604\n",
       "3197     1499      9            1848\n",
       "3198     1499     10           17809\n",
       "3199     1499     11           17984\n",
       "3200     1499     12           13077\n",
       "\n",
       "[3201 rows x 3 columns]"
      ]
     },
     "execution_count": 15,
     "metadata": {},
     "output_type": "execute_result"
    }
   ],
   "source": [
    "internet_total = internet.groupby(['user_id', 'month'])[['mb_used']].agg(['sum']).reset_index()\n",
    "internet_total.columns = ['user_id', 'month', 'internet_total']\n",
    "internet_total"
   ]
  },
  {
   "cell_type": "markdown",
   "metadata": {},
   "source": [
    "<a id=\"2.4\"></a>\n",
    "### Помесячная выручка с каждого пользователя \n",
    "#### (вычтите бесплатный лимит из суммарного количества звонков, сообщений и интернет-трафика; остаток умножьте на значение из тарифного плана; прибавьте абонентскую плату, соответствующую тарифному плану)"
   ]
  },
  {
   "cell_type": "code",
   "execution_count": 16,
   "metadata": {},
   "outputs": [],
   "source": [
    "internet_users = users.merge(internet_total, on='user_id', how='outer')"
   ]
  },
  {
   "cell_type": "code",
   "execution_count": 17,
   "metadata": {
    "scrolled": false
   },
   "outputs": [
    {
     "data": {
      "text/html": [
       "<div>\n",
       "<style scoped>\n",
       "    .dataframe tbody tr th:only-of-type {\n",
       "        vertical-align: middle;\n",
       "    }\n",
       "\n",
       "    .dataframe tbody tr th {\n",
       "        vertical-align: top;\n",
       "    }\n",
       "\n",
       "    .dataframe thead th {\n",
       "        text-align: right;\n",
       "    }\n",
       "</style>\n",
       "<table border=\"1\" class=\"dataframe\">\n",
       "  <thead>\n",
       "    <tr style=\"text-align: right;\">\n",
       "      <th></th>\n",
       "      <th>user_id</th>\n",
       "      <th>age</th>\n",
       "      <th>churn_date</th>\n",
       "      <th>city</th>\n",
       "      <th>first_name</th>\n",
       "      <th>last_name</th>\n",
       "      <th>reg_date</th>\n",
       "      <th>tariff_name</th>\n",
       "      <th>month</th>\n",
       "      <th>internet_total</th>\n",
       "      <th>mins_total</th>\n",
       "      <th>calls_total</th>\n",
       "      <th>messages_total</th>\n",
       "      <th>messages_included</th>\n",
       "      <th>mb_per_month_included</th>\n",
       "      <th>minutes_included</th>\n",
       "      <th>rub_monthly_fee</th>\n",
       "      <th>rub_per_gb</th>\n",
       "      <th>rub_per_message</th>\n",
       "      <th>rub_per_minute</th>\n",
       "    </tr>\n",
       "  </thead>\n",
       "  <tbody>\n",
       "    <tr>\n",
       "      <td>0</td>\n",
       "      <td>1000</td>\n",
       "      <td>52.0</td>\n",
       "      <td>NaT</td>\n",
       "      <td>Краснодар</td>\n",
       "      <td>Рафаил</td>\n",
       "      <td>Верещагин</td>\n",
       "      <td>2018-05-25</td>\n",
       "      <td>ultra</td>\n",
       "      <td>5.0</td>\n",
       "      <td>2256.0</td>\n",
       "      <td>159.0</td>\n",
       "      <td>17.0</td>\n",
       "      <td>22.0</td>\n",
       "      <td>1000.0</td>\n",
       "      <td>30720.0</td>\n",
       "      <td>3000.0</td>\n",
       "      <td>1950.0</td>\n",
       "      <td>150.0</td>\n",
       "      <td>1.0</td>\n",
       "      <td>1.0</td>\n",
       "    </tr>\n",
       "    <tr>\n",
       "      <td>1</td>\n",
       "      <td>1000</td>\n",
       "      <td>52.0</td>\n",
       "      <td>NaT</td>\n",
       "      <td>Краснодар</td>\n",
       "      <td>Рафаил</td>\n",
       "      <td>Верещагин</td>\n",
       "      <td>2018-05-25</td>\n",
       "      <td>ultra</td>\n",
       "      <td>6.0</td>\n",
       "      <td>23257.0</td>\n",
       "      <td>172.0</td>\n",
       "      <td>28.0</td>\n",
       "      <td>60.0</td>\n",
       "      <td>1000.0</td>\n",
       "      <td>30720.0</td>\n",
       "      <td>3000.0</td>\n",
       "      <td>1950.0</td>\n",
       "      <td>150.0</td>\n",
       "      <td>1.0</td>\n",
       "      <td>1.0</td>\n",
       "    </tr>\n",
       "    <tr>\n",
       "      <td>2</td>\n",
       "      <td>1000</td>\n",
       "      <td>52.0</td>\n",
       "      <td>NaT</td>\n",
       "      <td>Краснодар</td>\n",
       "      <td>Рафаил</td>\n",
       "      <td>Верещагин</td>\n",
       "      <td>2018-05-25</td>\n",
       "      <td>ultra</td>\n",
       "      <td>7.0</td>\n",
       "      <td>14016.0</td>\n",
       "      <td>340.0</td>\n",
       "      <td>41.0</td>\n",
       "      <td>75.0</td>\n",
       "      <td>1000.0</td>\n",
       "      <td>30720.0</td>\n",
       "      <td>3000.0</td>\n",
       "      <td>1950.0</td>\n",
       "      <td>150.0</td>\n",
       "      <td>1.0</td>\n",
       "      <td>1.0</td>\n",
       "    </tr>\n",
       "    <tr>\n",
       "      <td>3</td>\n",
       "      <td>1000</td>\n",
       "      <td>52.0</td>\n",
       "      <td>NaT</td>\n",
       "      <td>Краснодар</td>\n",
       "      <td>Рафаил</td>\n",
       "      <td>Верещагин</td>\n",
       "      <td>2018-05-25</td>\n",
       "      <td>ultra</td>\n",
       "      <td>8.0</td>\n",
       "      <td>14070.0</td>\n",
       "      <td>408.0</td>\n",
       "      <td>42.0</td>\n",
       "      <td>81.0</td>\n",
       "      <td>1000.0</td>\n",
       "      <td>30720.0</td>\n",
       "      <td>3000.0</td>\n",
       "      <td>1950.0</td>\n",
       "      <td>150.0</td>\n",
       "      <td>1.0</td>\n",
       "      <td>1.0</td>\n",
       "    </tr>\n",
       "    <tr>\n",
       "      <td>4</td>\n",
       "      <td>1000</td>\n",
       "      <td>52.0</td>\n",
       "      <td>NaT</td>\n",
       "      <td>Краснодар</td>\n",
       "      <td>Рафаил</td>\n",
       "      <td>Верещагин</td>\n",
       "      <td>2018-05-25</td>\n",
       "      <td>ultra</td>\n",
       "      <td>9.0</td>\n",
       "      <td>14581.0</td>\n",
       "      <td>466.0</td>\n",
       "      <td>46.0</td>\n",
       "      <td>57.0</td>\n",
       "      <td>1000.0</td>\n",
       "      <td>30720.0</td>\n",
       "      <td>3000.0</td>\n",
       "      <td>1950.0</td>\n",
       "      <td>150.0</td>\n",
       "      <td>1.0</td>\n",
       "      <td>1.0</td>\n",
       "    </tr>\n",
       "  </tbody>\n",
       "</table>\n",
       "</div>"
      ],
      "text/plain": [
       "   user_id   age churn_date       city first_name  last_name   reg_date  \\\n",
       "0     1000  52.0        NaT  Краснодар     Рафаил  Верещагин 2018-05-25   \n",
       "1     1000  52.0        NaT  Краснодар     Рафаил  Верещагин 2018-05-25   \n",
       "2     1000  52.0        NaT  Краснодар     Рафаил  Верещагин 2018-05-25   \n",
       "3     1000  52.0        NaT  Краснодар     Рафаил  Верещагин 2018-05-25   \n",
       "4     1000  52.0        NaT  Краснодар     Рафаил  Верещагин 2018-05-25   \n",
       "\n",
       "  tariff_name  month  internet_total  mins_total  calls_total  messages_total  \\\n",
       "0       ultra    5.0          2256.0       159.0         17.0            22.0   \n",
       "1       ultra    6.0         23257.0       172.0         28.0            60.0   \n",
       "2       ultra    7.0         14016.0       340.0         41.0            75.0   \n",
       "3       ultra    8.0         14070.0       408.0         42.0            81.0   \n",
       "4       ultra    9.0         14581.0       466.0         46.0            57.0   \n",
       "\n",
       "   messages_included  mb_per_month_included  minutes_included  \\\n",
       "0             1000.0                30720.0            3000.0   \n",
       "1             1000.0                30720.0            3000.0   \n",
       "2             1000.0                30720.0            3000.0   \n",
       "3             1000.0                30720.0            3000.0   \n",
       "4             1000.0                30720.0            3000.0   \n",
       "\n",
       "   rub_monthly_fee  rub_per_gb  rub_per_message  rub_per_minute  \n",
       "0           1950.0       150.0              1.0             1.0  \n",
       "1           1950.0       150.0              1.0             1.0  \n",
       "2           1950.0       150.0              1.0             1.0  \n",
       "3           1950.0       150.0              1.0             1.0  \n",
       "4           1950.0       150.0              1.0             1.0  "
      ]
     },
     "execution_count": 17,
     "metadata": {},
     "output_type": "execute_result"
    }
   ],
   "source": [
    "int_calls_users = internet_users.merge(calls_total, how='outer', on=['month','user_id'])\n",
    "int_calls_users_mes = int_calls_users.merge(messages_total, how='outer', on=['month','user_id'])\n",
    "int_calls_users_mes = int_calls_users_mes.rename(columns={'tariff': 'tariff_name'})\n",
    "df = int_calls_users_mes.merge(tariffs, how='left', on=['tariff_name'])\n",
    "df.head()"
   ]
  },
  {
   "cell_type": "code",
   "execution_count": 18,
   "metadata": {},
   "outputs": [],
   "source": [
    "#Заменим нулями отсутствующие значения там, где это необходимо\n",
    "df['messages_total'] = df.messages_total.fillna(0).astype(int)\n",
    "df['mins_total'] = df.mins_total.fillna(0).astype(int)\n",
    "df['calls_total'] = df.calls_total.fillna(0).astype(int)\n",
    "df['internet_total'] = df.internet_total.fillna(0).astype(int)\n",
    "# избавимся от отсутствующих значений там, где это необходимо\n",
    "df.dropna(subset = ['tariff_name'], inplace=True)\n",
    "df.dropna(subset = ['month'], inplace=True)\n",
    "\n",
    "#заменим плавающие значения целочисленными там, где это необходимо\n",
    "df['messages_included'] = df.messages_included.astype(int)\n",
    "df['mb_per_month_included'] = df.mb_per_month_included.astype(int)\n",
    "df['minutes_included'] = df.minutes_included.astype(int)\n",
    "df['rub_monthly_fee'] = df.rub_monthly_fee.astype(int)\n",
    "df['rub_per_gb'] = df.rub_per_gb.astype(int)\n",
    "df['rub_per_message'] = df.rub_per_message.astype(int)\n",
    "df['rub_per_minute'] = df.rub_per_minute.astype(int)\n",
    "df['month'] = df.month.astype(int)\n",
    "df['age'] = df.age.astype(int)\n",
    "df['rub_per_mb'] = df['rub_per_gb'] / 1024"
   ]
  },
  {
   "cell_type": "markdown",
   "metadata": {},
   "source": [
    "Посмотрим на результат нашей работы с пропусками"
   ]
  },
  {
   "cell_type": "code",
   "execution_count": 19,
   "metadata": {},
   "outputs": [
    {
     "data": {
      "text/html": [
       "<div>\n",
       "<style scoped>\n",
       "    .dataframe tbody tr th:only-of-type {\n",
       "        vertical-align: middle;\n",
       "    }\n",
       "\n",
       "    .dataframe tbody tr th {\n",
       "        vertical-align: top;\n",
       "    }\n",
       "\n",
       "    .dataframe thead th {\n",
       "        text-align: right;\n",
       "    }\n",
       "</style>\n",
       "<table border=\"1\" class=\"dataframe\">\n",
       "  <thead>\n",
       "    <tr style=\"text-align: right;\">\n",
       "      <th></th>\n",
       "      <th>Количество пропущенных значений</th>\n",
       "      <th>Доля пропущенных значений</th>\n",
       "    </tr>\n",
       "  </thead>\n",
       "  <tbody>\n",
       "    <tr>\n",
       "      <td>churn_date</td>\n",
       "      <td>3015</td>\n",
       "      <td>0.94</td>\n",
       "    </tr>\n",
       "    <tr>\n",
       "      <td>user_id</td>\n",
       "      <td>0</td>\n",
       "      <td>0.00</td>\n",
       "    </tr>\n",
       "    <tr>\n",
       "      <td>calls_total</td>\n",
       "      <td>0</td>\n",
       "      <td>0.00</td>\n",
       "    </tr>\n",
       "    <tr>\n",
       "      <td>rub_per_minute</td>\n",
       "      <td>0</td>\n",
       "      <td>0.00</td>\n",
       "    </tr>\n",
       "    <tr>\n",
       "      <td>rub_per_message</td>\n",
       "      <td>0</td>\n",
       "      <td>0.00</td>\n",
       "    </tr>\n",
       "    <tr>\n",
       "      <td>rub_per_gb</td>\n",
       "      <td>0</td>\n",
       "      <td>0.00</td>\n",
       "    </tr>\n",
       "    <tr>\n",
       "      <td>rub_monthly_fee</td>\n",
       "      <td>0</td>\n",
       "      <td>0.00</td>\n",
       "    </tr>\n",
       "    <tr>\n",
       "      <td>minutes_included</td>\n",
       "      <td>0</td>\n",
       "      <td>0.00</td>\n",
       "    </tr>\n",
       "    <tr>\n",
       "      <td>mb_per_month_included</td>\n",
       "      <td>0</td>\n",
       "      <td>0.00</td>\n",
       "    </tr>\n",
       "    <tr>\n",
       "      <td>messages_included</td>\n",
       "      <td>0</td>\n",
       "      <td>0.00</td>\n",
       "    </tr>\n",
       "    <tr>\n",
       "      <td>messages_total</td>\n",
       "      <td>0</td>\n",
       "      <td>0.00</td>\n",
       "    </tr>\n",
       "    <tr>\n",
       "      <td>mins_total</td>\n",
       "      <td>0</td>\n",
       "      <td>0.00</td>\n",
       "    </tr>\n",
       "    <tr>\n",
       "      <td>age</td>\n",
       "      <td>0</td>\n",
       "      <td>0.00</td>\n",
       "    </tr>\n",
       "    <tr>\n",
       "      <td>internet_total</td>\n",
       "      <td>0</td>\n",
       "      <td>0.00</td>\n",
       "    </tr>\n",
       "    <tr>\n",
       "      <td>month</td>\n",
       "      <td>0</td>\n",
       "      <td>0.00</td>\n",
       "    </tr>\n",
       "    <tr>\n",
       "      <td>tariff_name</td>\n",
       "      <td>0</td>\n",
       "      <td>0.00</td>\n",
       "    </tr>\n",
       "    <tr>\n",
       "      <td>reg_date</td>\n",
       "      <td>0</td>\n",
       "      <td>0.00</td>\n",
       "    </tr>\n",
       "    <tr>\n",
       "      <td>last_name</td>\n",
       "      <td>0</td>\n",
       "      <td>0.00</td>\n",
       "    </tr>\n",
       "    <tr>\n",
       "      <td>first_name</td>\n",
       "      <td>0</td>\n",
       "      <td>0.00</td>\n",
       "    </tr>\n",
       "    <tr>\n",
       "      <td>city</td>\n",
       "      <td>0</td>\n",
       "      <td>0.00</td>\n",
       "    </tr>\n",
       "    <tr>\n",
       "      <td>rub_per_mb</td>\n",
       "      <td>0</td>\n",
       "      <td>0.00</td>\n",
       "    </tr>\n",
       "  </tbody>\n",
       "</table>\n",
       "</div>"
      ],
      "text/plain": [
       "                       Количество пропущенных значений  \\\n",
       "churn_date                                        3015   \n",
       "user_id                                              0   \n",
       "calls_total                                          0   \n",
       "rub_per_minute                                       0   \n",
       "rub_per_message                                      0   \n",
       "rub_per_gb                                           0   \n",
       "rub_monthly_fee                                      0   \n",
       "minutes_included                                     0   \n",
       "mb_per_month_included                                0   \n",
       "messages_included                                    0   \n",
       "messages_total                                       0   \n",
       "mins_total                                           0   \n",
       "age                                                  0   \n",
       "internet_total                                       0   \n",
       "month                                                0   \n",
       "tariff_name                                          0   \n",
       "reg_date                                             0   \n",
       "last_name                                            0   \n",
       "first_name                                           0   \n",
       "city                                                 0   \n",
       "rub_per_mb                                           0   \n",
       "\n",
       "                       Доля пропущенных значений  \n",
       "churn_date                                  0.94  \n",
       "user_id                                     0.00  \n",
       "calls_total                                 0.00  \n",
       "rub_per_minute                              0.00  \n",
       "rub_per_message                             0.00  \n",
       "rub_per_gb                                  0.00  \n",
       "rub_monthly_fee                             0.00  \n",
       "minutes_included                            0.00  \n",
       "mb_per_month_included                       0.00  \n",
       "messages_included                           0.00  \n",
       "messages_total                              0.00  \n",
       "mins_total                                  0.00  \n",
       "age                                         0.00  \n",
       "internet_total                              0.00  \n",
       "month                                       0.00  \n",
       "tariff_name                                 0.00  \n",
       "reg_date                                    0.00  \n",
       "last_name                                   0.00  \n",
       "first_name                                  0.00  \n",
       "city                                        0.00  \n",
       "rub_per_mb                                  0.00  "
      ]
     },
     "execution_count": 19,
     "metadata": {},
     "output_type": "execute_result"
    }
   ],
   "source": [
    "pd.concat([df.isna().sum().to_frame(name='Количество пропущенных значений'),\n",
    "           (df.isna().sum() / len(df)).to_frame(name='Доля пропущенных значений').round(2)],axis=1).sort_values(by='Количество пропущенных значений',ascending=False)"
   ]
  },
  {
   "cell_type": "code",
   "execution_count": 20,
   "metadata": {},
   "outputs": [],
   "source": [
    "calls = calls[calls.duration > 0]\n",
    "\n",
    "internet = internet[internet.mb_used > 0]"
   ]
  },
  {
   "cell_type": "code",
   "execution_count": 21,
   "metadata": {},
   "outputs": [],
   "source": [
    "# сделаем так, чтобы было видно все колонки\n",
    "pd.options.display.max_columns = None"
   ]
  },
  {
   "cell_type": "markdown",
   "metadata": {},
   "source": [
    "В будущем нам понадобится рассчитать, какой тариф выгоднее для компании. Для этого нам понадобится знать, какую выручку принёс каждый пользователь в выборке."
   ]
  },
  {
   "cell_type": "code",
   "execution_count": 22,
   "metadata": {},
   "outputs": [],
   "source": [
    "# напишем функцию для расчёта месячной стоимости услуг оператора\n",
    "\n",
    "def final_cost(df):\n",
    "    # объявим переменные\n",
    "    mins = df['mins_total']\n",
    "    messages = df['messages_total']\n",
    "    mb_used = df['internet_total']\n",
    "    tariff = df['tariff_name']\n",
    "    minutes_lim = df['minutes_included']\n",
    "    mess_lim = df['messages_included']\n",
    "    inter_lim = df['mb_per_month_included']\n",
    "    rub_per_message = df['rub_per_message']\n",
    "    rub_per_mb = df['rub_per_mb']\n",
    "    rub_monthly_fee = df['rub_monthly_fee']\n",
    "    rub_per_minute = df['rub_per_minute']\n",
    "   \n",
    "    # вычисляем переплату по звонкам. обратите внимание на первую строчку и попробуйте ее осмыслить  :) \n",
    "    call_overlimit = max(mins - minutes_lim, 0)\n",
    "    internet_overlimit = max(mb_used - inter_lim, 0)\n",
    "    sms_overlimit = max(messages - mess_lim, 0)\n",
    " \n",
    "    # возвращаем стоимость пользованием услуг за месяц\n",
    "    return rub_monthly_fee + call_overlimit * rub_per_minute + sms_overlimit * rub_per_message + internet_overlimit * rub_per_mb\n",
    "\n",
    "df['final_cost'] = df.apply(final_cost, axis=1)\n",
    "df['final_cost'] = df['final_cost'].astype(int)"
   ]
  },
  {
   "cell_type": "markdown",
   "metadata": {},
   "source": [
    "<a id=\"2.5\"></a>\n",
    "### Вывод\n",
    "\n",
    "Мы подготовили данные к анализу. Все даты теперь имеют необходимый формат. Значения минут и мегабайт мы округлили в большую сторону - так работает наш оператор.\n",
    "\n",
    "Мы также удалили ненужные для исследования столбцы, добавили столбец с месяцем совершения той или иной операции. Мы избавились от нулевых значений в продолжительности звонков и использованных мегабайтах - для нашего исследования эти данные не интересны.\n",
    "\n",
    "Мы также посчитали следующие параметры: \n",
    "* Количество сделанных звонков и израсходованных минут разговора по месяцам\n",
    "\n",
    "* Количество отправленных сообщений по месяцам\n",
    "\n",
    "* Объем израсходованного интернет-трафика по месяцам\n",
    "\n",
    "* Помесячная выручка с каждого пользователя\n",
    "\n",
    "Все нужные датасеты объединены в одну таблицу. Теперь данные готовы к анализу."
   ]
  },
  {
   "cell_type": "markdown",
   "metadata": {},
   "source": [
    "\n",
    "<a id=\"3\"></a>\n",
    "### 3. Анализ данных\n",
    "\n",
    "#### Опишите поведение клиентов оператора, исходя из выборки. Сколько минут разговора, сколько сообщений и какой объём интернет-трафика требуется пользователям каждого тарифа в месяц? Посчитайте среднее количество, дисперсию и стандартное отклонение. Постройте гистограммы. Опишите распределения."
   ]
  },
  {
   "cell_type": "markdown",
   "metadata": {},
   "source": [
    "<a id=\"3.1\"></a>\n",
    "#### Сколько минут требуется абонентам"
   ]
  },
  {
   "cell_type": "code",
   "execution_count": 40,
   "metadata": {},
   "outputs": [
    {
     "name": "stdout",
     "output_type": "stream",
     "text": [
      "Сколько минут нужно пользователю тарифа SMART в месяц (медиана): 440\n",
      "Сколько минут нужно пользователю тарифа ULTRA в месяц (медиана): 537\n"
     ]
    },
    {
     "data": {
      "image/png": "[encoded data removed]",
      "text/plain": [
       "<Figure size 432x288 with 1 Axes>"
      ]
     },
     "metadata": {
      "needs_background": "light"
     },
     "output_type": "display_data"
    }
   ],
   "source": [
    "df1 = df.pivot_table(['mins_total','internet_total','messages_total','calls_total'],\\\n",
    "                 'user_id','tariff_name',aggfunc=[np.mean, np.median])\n",
    "legend = ['smart', 'ultra']\n",
    "df1['median']['mins_total']['smart'].hist(bins=10, color='g')\n",
    "df1['median']['mins_total']['ultra'].hist(bins=10, color='r', alpha=0.8)\n",
    "plt.xlabel('Количество минут')\n",
    "plt.ylabel('Число абонентов')\n",
    "plt.title('Сколько минут нужно пользователю в месяц (медиана)')\n",
    "plt.legend(legend)\n",
    "\n",
    "print('Сколько минут нужно пользователю тарифа SMART в месяц (медиана):', round(df1['median']['mins_total']['smart'].median()))\n",
    "print('Сколько минут нужно пользователю тарифа ULTRA в месяц (медиана):', round(df1['median']['mins_total']['ultra'].median()))"
   ]
  },
  {
   "cell_type": "markdown",
   "metadata": {},
   "source": [
    "Медианный пользователь тарифа smart нуждается в меньшем количестве минут, чем медианный абонент ultra. Разница составляет 97 минут. Стоит отметить, что ни в одном из тарифов пользователи не выходят за рамки заложенного в тарифе пакета минут. Пользователи smart близки к тому, чтобы израсходовать весь стандартный пакет минут."
   ]
  },
  {
   "cell_type": "markdown",
   "metadata": {},
   "source": [
    "<a id=\"3.2\"></a>\n",
    "#### Сколько мегабайт требуется абонентам"
   ]
  },
  {
   "cell_type": "code",
   "execution_count": 24,
   "metadata": {},
   "outputs": [
    {
     "name": "stdout",
     "output_type": "stream",
     "text": [
      "Сколько мегабайт нужно пользователю тарифа SMART в месяц (медиана): 16985\n",
      "Сколько мегабайт нужно пользователю тарифа ULTRA в месяц (медиана): 19826\n"
     ]
    },
    {
     "data": {
      "image/png": "[encoded data removed]",
      "text/plain": [
       "<Figure size 432x288 with 1 Axes>"
      ]
     },
     "metadata": {
      "needs_background": "light"
     },
     "output_type": "display_data"
    }
   ],
   "source": [
    "df1['median']['internet_total']['smart'].hist(color='g')\n",
    "df1['median']['internet_total']['ultra'].hist(color='r', alpha=0.8)\n",
    "plt.xlabel('Количество мегабайт')\n",
    "plt.ylabel('Число абонентов')\n",
    "plt.title('Сколько мегабайт нужно пользователю в месяц (медиана)')\n",
    "plt.legend(legend)\n",
    "\n",
    "print('Сколько мегабайт нужно пользователю тарифа SMART в месяц (медиана):', round(df1['median']['internet_total']['smart'].median()))\n",
    "print('Сколько мегабайт нужно пользователю тарифа ULTRA в месяц (медиана):', round(df1['median']['internet_total']['ultra'].median()))"
   ]
  },
  {
   "cell_type": "markdown",
   "metadata": {},
   "source": [
    "Ожидаемо, пользователи тарифа SMART потребляют меньше интернета, чем абоненты ULTRA - разница составляет 3 Гб. Также мы видим, что среди пользователей тарифа ultra заметно больше тех, кому нужно больше, чем 27 Гб трафика - среди абонентов smart таких почти нет.\n",
    "Важный вывод: пользователи тарифа smart обычно выходят за рамки предложенного пакета трафика (15 Гб) и платят за интернет дополнительно. Абоненты ultra в основном укладываются в предложенный пакет 30 Гб."
   ]
  },
  {
   "cell_type": "markdown",
   "metadata": {},
   "source": [
    "<a id=\"3.3\"></a>\n",
    "#### Сколько сообщений необходимо абонентам"
   ]
  },
  {
   "cell_type": "code",
   "execution_count": 25,
   "metadata": {},
   "outputs": [
    {
     "name": "stdout",
     "output_type": "stream",
     "text": [
      "Сколько сообщений отправляют пользователи тарифа SMART в месяц (медиана): 28\n",
      "Сколько сообщений отправляют пользователи тарифа ULTRA в месяц (медиана): 48\n"
     ]
    },
    {
     "data": {
      "image/png": "[encoded data removed]",
      "text/plain": [
       "<Figure size 432x288 with 1 Axes>"
      ]
     },
     "metadata": {
      "needs_background": "light"
     },
     "output_type": "display_data"
    }
   ],
   "source": [
    "df1['median']['messages_total']['smart'].hist(color='g')\n",
    "df1['median']['messages_total']['ultra'].hist(color='r', alpha=0.8)\n",
    "plt.xlabel('Количество сообщений')\n",
    "plt.ylabel('Число абонентов')\n",
    "plt.title('Сколько сообщений нужно пользователю в месяц (медиана)')\n",
    "plt.legend(legend)\n",
    "\n",
    "\n",
    "print('Сколько сообщений отправляют пользователи тарифа SMART в месяц (медиана):', round(df1['median']['messages_total']['smart'].median()))\n",
    "print('Сколько сообщений отправляют пользователи тарифа ULTRA в месяц (медиана):', round(df1['median']['messages_total']['ultra'].median()))"
   ]
  },
  {
   "cell_type": "markdown",
   "metadata": {},
   "source": [
    "Пользователи обоих тарифов не проявляют интереса к общению через СМС. Абоненты smart используют чуть больше половины из предложенного пакета сообщений, а абоненты ultra не используют и пяти процентов из пакета."
   ]
  },
  {
   "cell_type": "markdown",
   "metadata": {},
   "source": [
    "<a id=\"3.4\"></a>\n",
    "Посчитаем также, **как отличаются нужды наших абонентов в зависимости от месяца**"
   ]
  },
  {
   "cell_type": "code",
   "execution_count": 26,
   "metadata": {},
   "outputs": [
    {
     "data": {
      "image/png": "[encoded data removed]",
      "text/plain": [
       "<Figure size 432x288 with 1 Axes>"
      ]
     },
     "metadata": {
      "needs_background": "light"
     },
     "output_type": "display_data"
    },
    {
     "data": {
      "image/png": "[encoded data removed]",
      "text/plain": [
       "<Figure size 432x288 with 1 Axes>"
      ]
     },
     "metadata": {
      "needs_background": "light"
     },
     "output_type": "display_data"
    },
    {
     "data": {
      "image/png": "[encoded data removed]",
      "text/plain": [
       "<Figure size 432x288 with 1 Axes>"
      ]
     },
     "metadata": {
      "needs_background": "light"
     },
     "output_type": "display_data"
    },
    {
     "data": {
      "image/png": "[encoded data removed]",
      "text/plain": [
       "<Figure size 432x288 with 1 Axes>"
      ]
     },
     "metadata": {
      "needs_background": "light"
     },
     "output_type": "display_data"
    },
    {
     "data": {
      "image/png": "[encoded data removed]",
      "text/plain": [
       "<Figure size 432x288 with 1 Axes>"
      ]
     },
     "metadata": {
      "needs_background": "light"
     },
     "output_type": "display_data"
    },
    {
     "data": {
      "image/png": "[encoded data removed]",
      "text/plain": [
       "<Figure size 432x288 with 1 Axes>"
      ]
     },
     "metadata": {
      "needs_background": "light"
     },
     "output_type": "display_data"
    }
   ],
   "source": [
    "df.query('tariff_name == \"smart\"').groupby(by='month')['mins_total'].mean().plot(title='Сколько минут в среднем использует абонент тарифа SMART', kind='bar')\n",
    "plt.xlabel('Месяц')\n",
    "plt.ylabel('Минуты')\n",
    "plt.show()\n",
    "\n",
    "df.query('tariff_name == \"smart\"').groupby(by='month')['messages_total'].mean().plot(title='Сколько сообщений в среднем отправляет абонент тарифа SMART', kind='bar')\n",
    "plt.xlabel('Месяц')\n",
    "plt.ylabel('Сообщения')\n",
    "plt.show()\n",
    "\n",
    "df.query('tariff_name == \"smart\"').groupby(by='month')['internet_total'].mean().plot(title='Сколько мегабайт в среднем нужно абоненту тарифа SMART', kind='bar')\n",
    "plt.xlabel('Месяц')\n",
    "plt.ylabel('Мегабайты')\n",
    "plt.show()\n",
    "\n",
    "df.query('tariff_name == \"ultra\"').groupby(by='month')['messages_total'].mean().plot(title='Сколько сообщений в среднем отправляет абонент тарифа ULTRA', kind='bar')\n",
    "plt.xlabel('Месяц')\n",
    "plt.ylabel('Сообщения')\n",
    "plt.show()\n",
    "\n",
    "df.query('tariff_name == \"ultra\"').groupby(by='month')['mins_total'].mean().plot(title='Сколько минут в среднем использует абонент тарифа ULTRA', kind='bar')\n",
    "plt.xlabel('Месяц')\n",
    "plt.ylabel('Минуты')\n",
    "plt.show()\n",
    "\n",
    "df.query('tariff_name == \"ultra\"').groupby(by='month')['internet_total'].mean().plot(title='Сколько мегабайт в среднем нужно абоненту тарифа ULTRA', kind='bar')\n",
    "plt.xlabel('Месяц')\n",
    "plt.ylabel('Мегабайты')\n",
    "plt.show()"
   ]
  },
  {
   "cell_type": "markdown",
   "metadata": {},
   "source": [
    "Почти на всех графиках мы видим, что с каждым месяцем показатели увеличиваются. Это странно, потому что вряд ли в действительности абоненты меньше пользуются интернетом или звонят в феврале, чем в августе или любом другом месяце. Посмотрим, не связано ли это с тем, что число пользователей менялось с каждым месяцем."
   ]
  },
  {
   "cell_type": "code",
   "execution_count": 27,
   "metadata": {},
   "outputs": [
    {
     "data": {
      "text/plain": [
       "month\n",
       "1      43\n",
       "2      80\n",
       "3     114\n",
       "4     167\n",
       "5     206\n",
       "6     247\n",
       "7     291\n",
       "8     340\n",
       "9     374\n",
       "10    415\n",
       "11    449\n",
       "12    475\n",
       "Name: user_id, dtype: int64"
      ]
     },
     "execution_count": 27,
     "metadata": {},
     "output_type": "execute_result"
    }
   ],
   "source": [
    "df.groupby('month')['user_id'].count()"
   ]
  },
  {
   "cell_type": "markdown",
   "metadata": {},
   "source": [
    "Действительно, число пользователей росло с каждым месяцем. Меньшая активность пользователей на графиках за начало года может быть связана с тем, что выборка в первые месяцы менее репрезентативна, чем в более поздние месяцы."
   ]
  },
  {
   "cell_type": "markdown",
   "metadata": {},
   "source": [
    "Посчитаем, какую месячную выручку в среднем приносит каждый пользователь интересующих нас тарифов"
   ]
  },
  {
   "cell_type": "code",
   "execution_count": 28,
   "metadata": {},
   "outputs": [
    {
     "name": "stdout",
     "output_type": "stream",
     "text": [
      "Пользователь тарифа SMART в среднем тратит 1234 рублей\n",
      "Пользователь тарифа ULTRA в среднем тратит 2062 рублей\n"
     ]
    }
   ],
   "source": [
    "print('Пользователь тарифа SMART в среднем тратит {:.0f} рублей'.format(df.loc[df['tariff_name'] == 'smart', 'final_cost'].mean()))\n",
    "print('Пользователь тарифа ULTRA в среднем тратит {:.0f} рублей'.format(df.loc[df['tariff_name'] == 'ultra', 'final_cost'].mean()))\n"
   ]
  },
  {
   "cell_type": "markdown",
   "metadata": {},
   "source": [
    "<a id=\"3.5\"></a>\n",
    "#### Среднее количество, дисперсия и стандартное отклонение"
   ]
  },
  {
   "cell_type": "markdown",
   "metadata": {},
   "source": []
  },
  {
   "cell_type": "code",
   "execution_count": 29,
   "metadata": {},
   "outputs": [
    {
     "data": {
      "text/html": [
       "<div>\n",
       "<style scoped>\n",
       "    .dataframe tbody tr th:only-of-type {\n",
       "        vertical-align: middle;\n",
       "    }\n",
       "\n",
       "    .dataframe tbody tr th {\n",
       "        vertical-align: top;\n",
       "    }\n",
       "\n",
       "    .dataframe thead th {\n",
       "        text-align: right;\n",
       "    }\n",
       "</style>\n",
       "<table border=\"1\" class=\"dataframe\">\n",
       "  <thead>\n",
       "    <tr style=\"text-align: right;\">\n",
       "      <th></th>\n",
       "      <th>tariff_name</th>\n",
       "      <th>mins_mean</th>\n",
       "      <th>mins_variance</th>\n",
       "      <th>mins_std_deviation</th>\n",
       "    </tr>\n",
       "  </thead>\n",
       "  <tbody>\n",
       "    <tr>\n",
       "      <td>0</td>\n",
       "      <td>smart</td>\n",
       "      <td>418.268523</td>\n",
       "      <td>36127.778717</td>\n",
       "      <td>190.073088</td>\n",
       "    </tr>\n",
       "    <tr>\n",
       "      <td>1</td>\n",
       "      <td>ultra</td>\n",
       "      <td>530.183778</td>\n",
       "      <td>100803.636283</td>\n",
       "      <td>317.495884</td>\n",
       "    </tr>\n",
       "  </tbody>\n",
       "</table>\n",
       "</div>"
      ],
      "text/plain": [
       "  tariff_name   mins_mean  mins_variance  mins_std_deviation\n",
       "0       smart  418.268523   36127.778717          190.073088\n",
       "1       ultra  530.183778  100803.636283          317.495884"
      ]
     },
     "execution_count": 29,
     "metadata": {},
     "output_type": "execute_result"
    }
   ],
   "source": [
    "var_std_mins = df.groupby(['tariff_name']).agg({'mins_total' : ['mean', lambda x: np.var(x, ddof=1), \\\n",
    "lambda x: np.std(x, ddof=1)]}).reset_index()\n",
    "var_std_mins.columns = ['tariff_name', 'mins_mean', 'mins_variance', 'mins_std_deviation']\n",
    "var_std_mins\n"
   ]
  },
  {
   "cell_type": "code",
   "execution_count": 30,
   "metadata": {},
   "outputs": [
    {
     "data": {
      "text/html": [
       "<div>\n",
       "<style scoped>\n",
       "    .dataframe tbody tr th:only-of-type {\n",
       "        vertical-align: middle;\n",
       "    }\n",
       "\n",
       "    .dataframe tbody tr th {\n",
       "        vertical-align: top;\n",
       "    }\n",
       "\n",
       "    .dataframe thead th {\n",
       "        text-align: right;\n",
       "    }\n",
       "</style>\n",
       "<table border=\"1\" class=\"dataframe\">\n",
       "  <thead>\n",
       "    <tr style=\"text-align: right;\">\n",
       "      <th></th>\n",
       "      <th>tariff_name</th>\n",
       "      <th>internet_mean</th>\n",
       "      <th>internet_variance</th>\n",
       "      <th>internet_std_deviation</th>\n",
       "    </tr>\n",
       "  </thead>\n",
       "  <tbody>\n",
       "    <tr>\n",
       "      <td>0</td>\n",
       "      <td>smart</td>\n",
       "      <td>16243.763359</td>\n",
       "      <td>3.434009e+07</td>\n",
       "      <td>5860.041941</td>\n",
       "    </tr>\n",
       "    <tr>\n",
       "      <td>1</td>\n",
       "      <td>ultra</td>\n",
       "      <td>19706.979466</td>\n",
       "      <td>9.874650e+07</td>\n",
       "      <td>9937.127298</td>\n",
       "    </tr>\n",
       "  </tbody>\n",
       "</table>\n",
       "</div>"
      ],
      "text/plain": [
       "  tariff_name  internet_mean  internet_variance  internet_std_deviation\n",
       "0       smart   16243.763359       3.434009e+07             5860.041941\n",
       "1       ultra   19706.979466       9.874650e+07             9937.127298"
      ]
     },
     "execution_count": 30,
     "metadata": {},
     "output_type": "execute_result"
    }
   ],
   "source": [
    "var_std_internet = df.groupby(['tariff_name']).agg({'internet_total' : ['mean', lambda x: np.var(x, ddof=1), \\\n",
    "lambda x: np.std(x, ddof=1)]}).reset_index()\n",
    "var_std_internet.columns = ['tariff_name', 'internet_mean', 'internet_variance', 'internet_std_deviation']\n",
    "var_std_internet\n",
    "\n",
    "\n"
   ]
  },
  {
   "cell_type": "code",
   "execution_count": 31,
   "metadata": {
    "scrolled": false
   },
   "outputs": [
    {
     "data": {
      "text/html": [
       "<div>\n",
       "<style scoped>\n",
       "    .dataframe tbody tr th:only-of-type {\n",
       "        vertical-align: middle;\n",
       "    }\n",
       "\n",
       "    .dataframe tbody tr th {\n",
       "        vertical-align: top;\n",
       "    }\n",
       "\n",
       "    .dataframe thead th {\n",
       "        text-align: right;\n",
       "    }\n",
       "</style>\n",
       "<table border=\"1\" class=\"dataframe\">\n",
       "  <thead>\n",
       "    <tr style=\"text-align: right;\">\n",
       "      <th></th>\n",
       "      <th>tariff_name</th>\n",
       "      <th>messages_mean</th>\n",
       "      <th>messages_variance</th>\n",
       "      <th>messages_std_deviation</th>\n",
       "    </tr>\n",
       "  </thead>\n",
       "  <tbody>\n",
       "    <tr>\n",
       "      <td>0</td>\n",
       "      <td>smart</td>\n",
       "      <td>33.413112</td>\n",
       "      <td>796.585776</td>\n",
       "      <td>28.223851</td>\n",
       "    </tr>\n",
       "    <tr>\n",
       "      <td>1</td>\n",
       "      <td>ultra</td>\n",
       "      <td>49.633470</td>\n",
       "      <td>2302.057707</td>\n",
       "      <td>47.979764</td>\n",
       "    </tr>\n",
       "  </tbody>\n",
       "</table>\n",
       "</div>"
      ],
      "text/plain": [
       "  tariff_name  messages_mean  messages_variance  messages_std_deviation\n",
       "0       smart      33.413112         796.585776               28.223851\n",
       "1       ultra      49.633470        2302.057707               47.979764"
      ]
     },
     "execution_count": 31,
     "metadata": {},
     "output_type": "execute_result"
    }
   ],
   "source": [
    "var_std_messages = df.groupby(['tariff_name']).agg({'messages_total' : ['mean', lambda x: np.var(x, ddof=1), \\\n",
    "lambda x: np.std(x, ddof=1)]}).reset_index()\n",
    "var_std_messages.columns = ['tariff_name', 'messages_mean', 'messages_variance', 'messages_std_deviation']\n",
    "var_std_messages\n"
   ]
  },
  {
   "cell_type": "markdown",
   "metadata": {},
   "source": [
    "<a id=\"3.6\"></a>\n",
    "### Вывод\n",
    "\n",
    "Мы выяснили, что пользователи тарифа ULTRA используют больше СМС, минут и мегабайт, чем абоненты SMART. Обычно и те, и другие укладываются в стандартный пакет услуг по тарифу. Однако на тарифе smart абонентам обычно не хватает заложенного в тариф интернет-трафика. Кроме того, количество использованных абонентами smart минут близко к предельному по тарифу: медианный пользователь проговаривает 440 минут из предложенных в пакете 500 минут.\n",
    "\n",
    "* Пользователь тарифа SMART в среднем тратит 1234 рублей\n",
    "\n",
    "Это в 2,2 раза больше, чем стоит стандартный пакет услуг по данному тарифу. Люди переплачивают, поскольку им не хватает заложенного в пакет объёма интернет-трафика.\n",
    "* Пользователь тарифа ULTRA в среднем тратит 2062 рублей\n",
    "\n",
    "Эта стоимость лишь слегка превышает месячную стоимость тарифа.\n",
    "\n",
    "Мы также проанализировали, как меняется потребление услуг в зависимости от месяца, и обнаружили странную тенденцию: в первые месяцы года люди потребялют меньше услуг, чем в последующие. Оказалось, что с каждым месяцем число пользователей тарифов увеличивалось, и данные становились более репрезентативными.\n"
   ]
  },
  {
   "cell_type": "markdown",
   "metadata": {},
   "source": [
    "<a id=\"4\"></a>\n",
    "### Шаг 4. Проверка гипотез\n"
   ]
  },
  {
   "cell_type": "markdown",
   "metadata": {},
   "source": [
    "Во-первых, нам нужно проверить гипотезу о различии средней выручки от пользователей тарифов smart и ultra. Наши гипотезы сформулируем так:\n",
    "\n",
    "* **H0: средние выручки от пользователей тарифов smart и ultra равны.** (Поскольку H0 всегда формулируется так, чтобы использовать знак равенства)\n",
    "* **H1: средние выручки от пользователей тарифов smart и ultra отличаются.**\n",
    "\n",
    "Прежде чем проверить гипотезу, посмотрим на распределение."
   ]
  },
  {
   "cell_type": "code",
   "execution_count": 32,
   "metadata": {},
   "outputs": [
    {
     "data": {
      "text/plain": [
       "<matplotlib.legend.Legend at 0x7f0e50e34a10>"
      ]
     },
     "execution_count": 32,
     "metadata": {},
     "output_type": "execute_result"
    },
    {
     "data": {
      "image/png": "[encoded data removed]",
      "text/plain": [
       "<Figure size 432x288 with 1 Axes>"
      ]
     },
     "metadata": {
      "needs_background": "light"
     },
     "output_type": "display_data"
    }
   ],
   "source": [
    "smart_final_cost = df.loc[df['tariff_name'] == 'smart', 'final_cost']\n",
    "ultra_final_cost = df.loc[df['tariff_name'] == 'ultra', 'final_cost']\n",
    "\n",
    "smart_final_cost.hist(color='y')\n",
    "ultra_final_cost.hist(color='g')\n",
    "plt.legend(legend)"
   ]
  },
  {
   "cell_type": "markdown",
   "metadata": {},
   "source": [
    "Данные, как мы видим, распределены ассиметрично. Однако мы всё же собираемся применить для сравнения средних значений t-test, поскольку выборки независимые. Перед этим проверим равенство дисперсий."
   ]
  },
  {
   "cell_type": "code",
   "execution_count": 33,
   "metadata": {},
   "outputs": [
    {
     "name": "stdout",
     "output_type": "stream",
     "text": [
      "620363.2836462253\n",
      "128164.2326343091\n"
     ]
    }
   ],
   "source": [
    "print(np.var(smart_final_cost, ddof=1))\n",
    "print(np.var(ultra_final_cost, ddof=1))"
   ]
  },
  {
   "cell_type": "markdown",
   "metadata": {},
   "source": [
    "Дисперсии различаются. Проводим t-test."
   ]
  },
  {
   "cell_type": "code",
   "execution_count": 34,
   "metadata": {},
   "outputs": [
    {
     "name": "stdout",
     "output_type": "stream",
     "text": [
      "p-значение: 2.625902068022238e-294\n",
      "Отвергаем нулевую гипотезу\n"
     ]
    }
   ],
   "source": [
    "alpha = 0.05\n",
    "\n",
    "results = st.ttest_ind(\n",
    "    smart_final_cost,\n",
    "    ultra_final_cost,\n",
    "    equal_var=False)\n",
    "\n",
    "print('p-значение:', results.pvalue)\n",
    "\n",
    "if (results.pvalue < alpha):\n",
    "    print(\"Отвергаем нулевую гипотезу\")\n",
    "else:\n",
    "    print(\"Не получилось отвергнуть нулевую гипотезу\")"
   ]
  },
  {
   "cell_type": "markdown",
   "metadata": {},
   "source": [
    "То есть гипотеза о том, что средние выручки от пользователей тарифов smart и ultra равны, отвергается."
   ]
  },
  {
   "cell_type": "markdown",
   "metadata": {},
   "source": [
    "Во-вторых, нам нужно проверить гипотезу о различии средней выручки от пользователей из Москвы от выручки от пользователей из других регионов. Сформулируем наши гипотезы следующим образом:\n",
    "* **H0: средние выручки абонентов из Москвы и абонентов из других регионов равны**\n",
    "* **H1: средние выручки абонентов из Москвы и абонентов из других регионов отличаются**"
   ]
  },
  {
   "cell_type": "markdown",
   "metadata": {},
   "source": [
    "Проверим равенство дисперсий и посмотрим на распределение."
   ]
  },
  {
   "cell_type": "code",
   "execution_count": 35,
   "metadata": {},
   "outputs": [
    {
     "name": "stdout",
     "output_type": "stream",
     "text": [
      "547132.6987684795\n",
      "631962.7551676158\n"
     ]
    }
   ],
   "source": [
    "moscow = df.loc[df['city'] == 'Москва', 'final_cost']\n",
    "regions = df.loc[df['city'] != 'Москва', 'final_cost']\n",
    "\n",
    "\n",
    "\n",
    "print(np.var(moscow, ddof=1))\n",
    "print(np.var(regions, ddof=1))"
   ]
  },
  {
   "cell_type": "code",
   "execution_count": 36,
   "metadata": {},
   "outputs": [
    {
     "data": {
      "text/plain": [
       "<matplotlib.legend.Legend at 0x7f0e510cf590>"
      ]
     },
     "execution_count": 36,
     "metadata": {},
     "output_type": "execute_result"
    },
    {
     "data": {
      "image/png": "[encoded data removed]",
      "text/plain": [
       "<Figure size 432x288 with 1 Axes>"
      ]
     },
     "metadata": {
      "needs_background": "light"
     },
     "output_type": "display_data"
    }
   ],
   "source": [
    "moscow.hist(color='g')\n",
    "regions.hist(color='k', alpha=0.5)\n",
    "plt.legend(legend)"
   ]
  },
  {
   "cell_type": "markdown",
   "metadata": {},
   "source": [
    "Дисперсии разные. Проводим t-test."
   ]
  },
  {
   "cell_type": "code",
   "execution_count": 37,
   "metadata": {},
   "outputs": [
    {
     "name": "stdout",
     "output_type": "stream",
     "text": [
      "p-значение: 0.432654128740637\n",
      "Не получилось отвергнуть нулевую гипотезу\n"
     ]
    }
   ],
   "source": [
    "results = st.ttest_ind(\n",
    "    moscow,\n",
    "    regions,\n",
    "    equal_var=False)\n",
    "\n",
    "print('p-значение:', results.pvalue)\n",
    "\n",
    "if (results.pvalue < alpha):\n",
    "    print(\"Отвергаем нулевую гипотезу\")\n",
    "else:\n",
    "    print(\"Не получилось отвергнуть нулевую гипотезу\")"
   ]
  },
  {
   "cell_type": "markdown",
   "metadata": {},
   "source": [
    "Вероятнее всего, средняя выручка от абонентов из Москвы и регионов почти не отличается."
   ]
  },
  {
   "cell_type": "code",
   "execution_count": 38,
   "metadata": {},
   "outputs": [
    {
     "name": "stdout",
     "output_type": "stream",
     "text": [
      "1507.0671031096563\n",
      "1480.5691119691119\n"
     ]
    }
   ],
   "source": [
    "#Посмотрим на средние показатели выборки.\n",
    "print(moscow.mean())\n",
    "print(regions.mean())"
   ]
  },
  {
   "cell_type": "markdown",
   "metadata": {},
   "source": [
    "Средние выручки по нашей выборке действительно близки."
   ]
  },
  {
   "cell_type": "markdown",
   "metadata": {},
   "source": [
    "### Вывод\n",
    "\n",
    "Мы выдвинули две гипотезы. Гипотеза о том, что выручки от абонентов обоих тарифов равны, в результате была отвергнута. То есть верна, скорее, альтернативная гипотеза: выручки от пользователей тарифов smart и ultra отличаются.\n",
    "\n",
    "Гипотезу о том, что выручки от абонентов из Москвы и других регионов равны, не получилось отвергнуть."
   ]
  },
  {
   "cell_type": "markdown",
   "metadata": {},
   "source": [
    "### Общий вывод"
   ]
  },
  {
   "cell_type": "markdown",
   "metadata": {},
   "source": [
    "Главный вывод заключается в том, что, судя по результатам предварительного анализа небольшой выборки, больше денег компании \"Мегалайн\" приносят пользователи тарифа ULTRA. Они заметно активнее используют минуты, мегабайты и СМС.\n",
    "\n",
    "* **Пользователь тарифа SMART в среднем тратит 1234 рубля**. Пользователям тарифа SMART обычно не хватает предложенного в тарифе пакета интернет-трафика и им приходится доплачивать за дополнительные гигабайты.\n",
    "* **Пользователь тарифа ULTRA в среднем тратит 2062 рубля**. Это на 112 рублей больше месячной стоимости тарифа.\n",
    "\n",
    "Особенность представленных для анализа данных состоит в том, что число пользователей в них растет с каждым месяцем. Меньшая активность пользователей в использовании пакета услуг в начале года может быть связана с тем, что выборка в первые месяцы менее репрезентативна, чем в более поздние месяцы.\n",
    "\n",
    "Активность пользователей выглядит так:\n",
    "\n",
    "**Сколько минут нужно пользователю в месяц** (медиана):\n",
    "* SMART: 440 (в тариф включено 500)\n",
    "* ULTRA: 537 (в тариф включено 3000)\n",
    "\n",
    "\n",
    "**Сколько мегабайт нужно пользователю в месяц** (медиана): \n",
    "* SMART: 16985 (в тариф включено 15360)\n",
    "* ULTRA: 19826 (в тариф включено 30720)\n",
    "\n",
    "**Сколько сообщений отправляют пользователи в месяц** (медиана):\n",
    "* SMART: 28 (в тариф включено 50)\n",
    "* ULTRA: 48 (в тариф включено 1000)\n",
    "\n",
    "Наши расчеты подтвердил и статистический t-test. Мы отвергли гипотезу о том, что средние выручки от пользователей тарифов smart и ultra равны.\n",
    "\n",
    "Гипотезу о равенстве выручек от пользователей из Москвы и других регионов России отвергнуть в результате t-теста не удалось. По нашим расчетам на данных из выборки разница между средними выручками этих категорий пользователей составляет не больше 30 рублей или 1,8%.\n",
    "\n",
    "\n"
   ]
  }
 ],
 "metadata": {
  "kernelspec": {
   "display_name": "Python 3",
   "language": "python",
   "name": "python3"
  },
  "language_info": {
   "codemirror_mode": {
    "name": "ipython",
    "version": 3
   },
   "file_extension": ".py",
   "mimetype": "text/x-python",
   "name": "python",
   "nbconvert_exporter": "python",
   "pygments_lexer": "ipython3",
   "version": "3.7.6"
  }
 },
 "nbformat": 4,
 "nbformat_minor": 4
}
